{
 "cells": [
  {
   "cell_type": "code",
   "execution_count": 1,
   "metadata": {},
   "outputs": [],
   "source": [
    "import pandas as pd\n",
    "import os\n",
    "import warnings\n",
    "import seaborn as sns\n",
    "import matplotlib.pyplot as plt\n",
    "import numpy as np\n",
    "warnings.filterwarnings(\"ignore\")\n",
    "os.chdir(r\"C:\\Users\\ezkiska\\Videos\\Imarticus\\Python\\5th Week 4th & 5th Jan\\SVM  project band credit\")\n",
    "data_original = pd.read_csv('BankCreditCard.csv')"
   ]
  },
  {
   "cell_type": "code",
   "execution_count": 2,
   "metadata": {},
   "outputs": [],
   "source": [
    "data = data_original"
   ]
  },
  {
   "cell_type": "code",
   "execution_count": 3,
   "metadata": {},
   "outputs": [
    {
     "data": {
      "text/html": [
       "<div>\n",
       "<style scoped>\n",
       "    .dataframe tbody tr th:only-of-type {\n",
       "        vertical-align: middle;\n",
       "    }\n",
       "\n",
       "    .dataframe tbody tr th {\n",
       "        vertical-align: top;\n",
       "    }\n",
       "\n",
       "    .dataframe thead th {\n",
       "        text-align: right;\n",
       "    }\n",
       "</style>\n",
       "<table border=\"1\" class=\"dataframe\">\n",
       "  <thead>\n",
       "    <tr style=\"text-align: right;\">\n",
       "      <th></th>\n",
       "      <th>Customer ID</th>\n",
       "      <th>Credit_Amount</th>\n",
       "      <th>Gender</th>\n",
       "      <th>Academic_Qualification</th>\n",
       "      <th>Marital</th>\n",
       "      <th>Age_Years</th>\n",
       "      <th>Repayment_Status_Jan</th>\n",
       "      <th>Repayment_Status_Feb</th>\n",
       "      <th>Repayment_Status_March</th>\n",
       "      <th>Repayment_Status_April</th>\n",
       "      <th>...</th>\n",
       "      <th>April_Bill_Amount</th>\n",
       "      <th>May_Bill_Amount</th>\n",
       "      <th>June_Bill_Amount</th>\n",
       "      <th>Previous_Payment_Jan</th>\n",
       "      <th>Previous_Payment_Feb</th>\n",
       "      <th>Previous_Payment_March</th>\n",
       "      <th>Previous_Payment_April</th>\n",
       "      <th>Previous_Payment_May</th>\n",
       "      <th>Previous_Payment_June</th>\n",
       "      <th>Default_Payment</th>\n",
       "    </tr>\n",
       "  </thead>\n",
       "  <tbody>\n",
       "    <tr>\n",
       "      <th>0</th>\n",
       "      <td>1</td>\n",
       "      <td>20000.0</td>\n",
       "      <td>2</td>\n",
       "      <td>2</td>\n",
       "      <td>1</td>\n",
       "      <td>24</td>\n",
       "      <td>2</td>\n",
       "      <td>2</td>\n",
       "      <td>0</td>\n",
       "      <td>0</td>\n",
       "      <td>...</td>\n",
       "      <td>0.0</td>\n",
       "      <td>0.0</td>\n",
       "      <td>0.0</td>\n",
       "      <td>0.0</td>\n",
       "      <td>679.0</td>\n",
       "      <td>0.0</td>\n",
       "      <td>0.0</td>\n",
       "      <td>0.0</td>\n",
       "      <td>0.0</td>\n",
       "      <td>1</td>\n",
       "    </tr>\n",
       "    <tr>\n",
       "      <th>1</th>\n",
       "      <td>2</td>\n",
       "      <td>220000.0</td>\n",
       "      <td>2</td>\n",
       "      <td>2</td>\n",
       "      <td>2</td>\n",
       "      <td>26</td>\n",
       "      <td>0</td>\n",
       "      <td>2</td>\n",
       "      <td>0</td>\n",
       "      <td>0</td>\n",
       "      <td>...</td>\n",
       "      <td>3272.0</td>\n",
       "      <td>3455.0</td>\n",
       "      <td>3261.0</td>\n",
       "      <td>0.0</td>\n",
       "      <td>2000.0</td>\n",
       "      <td>1000.0</td>\n",
       "      <td>1000.0</td>\n",
       "      <td>0.0</td>\n",
       "      <td>2000.0</td>\n",
       "      <td>1</td>\n",
       "    </tr>\n",
       "    <tr>\n",
       "      <th>2</th>\n",
       "      <td>3</td>\n",
       "      <td>90000.0</td>\n",
       "      <td>2</td>\n",
       "      <td>2</td>\n",
       "      <td>2</td>\n",
       "      <td>34</td>\n",
       "      <td>0</td>\n",
       "      <td>0</td>\n",
       "      <td>0</td>\n",
       "      <td>0</td>\n",
       "      <td>...</td>\n",
       "      <td>24332.0</td>\n",
       "      <td>14848.0</td>\n",
       "      <td>15548.0</td>\n",
       "      <td>1619.0</td>\n",
       "      <td>2500.0</td>\n",
       "      <td>1000.0</td>\n",
       "      <td>1000.0</td>\n",
       "      <td>1000.0</td>\n",
       "      <td>5000.0</td>\n",
       "      <td>0</td>\n",
       "    </tr>\n",
       "    <tr>\n",
       "      <th>3</th>\n",
       "      <td>4</td>\n",
       "      <td>50000.0</td>\n",
       "      <td>2</td>\n",
       "      <td>2</td>\n",
       "      <td>1</td>\n",
       "      <td>37</td>\n",
       "      <td>0</td>\n",
       "      <td>0</td>\n",
       "      <td>0</td>\n",
       "      <td>0</td>\n",
       "      <td>...</td>\n",
       "      <td>29324.0</td>\n",
       "      <td>28858.0</td>\n",
       "      <td>28547.0</td>\n",
       "      <td>3000.0</td>\n",
       "      <td>2029.0</td>\n",
       "      <td>1200.0</td>\n",
       "      <td>1100.0</td>\n",
       "      <td>1069.0</td>\n",
       "      <td>1000.0</td>\n",
       "      <td>0</td>\n",
       "    </tr>\n",
       "    <tr>\n",
       "      <th>4</th>\n",
       "      <td>5</td>\n",
       "      <td>50000.0</td>\n",
       "      <td>1</td>\n",
       "      <td>2</td>\n",
       "      <td>1</td>\n",
       "      <td>57</td>\n",
       "      <td>0</td>\n",
       "      <td>0</td>\n",
       "      <td>0</td>\n",
       "      <td>0</td>\n",
       "      <td>...</td>\n",
       "      <td>20940.0</td>\n",
       "      <td>18146.0</td>\n",
       "      <td>18131.0</td>\n",
       "      <td>3000.0</td>\n",
       "      <td>36672.0</td>\n",
       "      <td>10000.0</td>\n",
       "      <td>9000.0</td>\n",
       "      <td>689.0</td>\n",
       "      <td>679.0</td>\n",
       "      <td>0</td>\n",
       "    </tr>\n",
       "  </tbody>\n",
       "</table>\n",
       "<p>5 rows × 25 columns</p>\n",
       "</div>"
      ],
      "text/plain": [
       "   Customer ID  Credit_Amount  Gender  Academic_Qualification  Marital  \\\n",
       "0            1        20000.0       2                       2        1   \n",
       "1            2       220000.0       2                       2        2   \n",
       "2            3        90000.0       2                       2        2   \n",
       "3            4        50000.0       2                       2        1   \n",
       "4            5        50000.0       1                       2        1   \n",
       "\n",
       "   Age_Years  Repayment_Status_Jan  Repayment_Status_Feb  \\\n",
       "0         24                     2                     2   \n",
       "1         26                     0                     2   \n",
       "2         34                     0                     0   \n",
       "3         37                     0                     0   \n",
       "4         57                     0                     0   \n",
       "\n",
       "   Repayment_Status_March  Repayment_Status_April  ...  April_Bill_Amount  \\\n",
       "0                       0                       0  ...                0.0   \n",
       "1                       0                       0  ...             3272.0   \n",
       "2                       0                       0  ...            24332.0   \n",
       "3                       0                       0  ...            29324.0   \n",
       "4                       0                       0  ...            20940.0   \n",
       "\n",
       "   May_Bill_Amount  June_Bill_Amount  Previous_Payment_Jan  \\\n",
       "0              0.0               0.0                   0.0   \n",
       "1           3455.0            3261.0                   0.0   \n",
       "2          14848.0           15548.0                1619.0   \n",
       "3          28858.0           28547.0                3000.0   \n",
       "4          18146.0           18131.0                3000.0   \n",
       "\n",
       "   Previous_Payment_Feb  Previous_Payment_March  Previous_Payment_April  \\\n",
       "0                 679.0                     0.0                     0.0   \n",
       "1                2000.0                  1000.0                  1000.0   \n",
       "2                2500.0                  1000.0                  1000.0   \n",
       "3                2029.0                  1200.0                  1100.0   \n",
       "4               36672.0                 10000.0                  9000.0   \n",
       "\n",
       "   Previous_Payment_May  Previous_Payment_June  Default_Payment  \n",
       "0                   0.0                    0.0                1  \n",
       "1                   0.0                 2000.0                1  \n",
       "2                1000.0                 5000.0                0  \n",
       "3                1069.0                 1000.0                0  \n",
       "4                 689.0                  679.0                0  \n",
       "\n",
       "[5 rows x 25 columns]"
      ]
     },
     "execution_count": 3,
     "metadata": {},
     "output_type": "execute_result"
    }
   ],
   "source": [
    "data.head()"
   ]
  },
  {
   "cell_type": "code",
   "execution_count": 4,
   "metadata": {},
   "outputs": [
    {
     "data": {
      "text/plain": [
       "Index(['Customer ID', 'Credit_Amount', 'Gender', 'Academic_Qualification',\n",
       "       'Marital', 'Age_Years', 'Repayment_Status_Jan', 'Repayment_Status_Feb',\n",
       "       'Repayment_Status_March', 'Repayment_Status_April',\n",
       "       'Repayment_Status_May', 'Repayment_Status_June', 'Jan_Bill_Amount',\n",
       "       'Feb_Bill_Amount', 'March_Bill_Amount', 'April_Bill_Amount',\n",
       "       'May_Bill_Amount', 'June_Bill_Amount', 'Previous_Payment_Jan',\n",
       "       'Previous_Payment_Feb', 'Previous_Payment_March',\n",
       "       'Previous_Payment_April', 'Previous_Payment_May',\n",
       "       'Previous_Payment_June', 'Default_Payment'],\n",
       "      dtype='object')"
      ]
     },
     "execution_count": 4,
     "metadata": {},
     "output_type": "execute_result"
    }
   ],
   "source": [
    "# list all columns (for reference)\n",
    "data.columns"
   ]
  },
  {
   "cell_type": "code",
   "execution_count": 5,
   "metadata": {},
   "outputs": [
    {
     "data": {
      "text/plain": [
       "Credit_Amount             0\n",
       "Gender                    0\n",
       "Academic_Qualification    0\n",
       "Marital                   0\n",
       "Age_Years                 0\n",
       "Repayment_Status_Jan      0\n",
       "Repayment_Status_Feb      0\n",
       "Repayment_Status_March    0\n",
       "Repayment_Status_April    0\n",
       "Repayment_Status_May      0\n",
       "Repayment_Status_June     0\n",
       "Jan_Bill_Amount           0\n",
       "Feb_Bill_Amount           0\n",
       "March_Bill_Amount         0\n",
       "April_Bill_Amount         0\n",
       "May_Bill_Amount           0\n",
       "June_Bill_Amount          0\n",
       "Previous_Payment_Jan      0\n",
       "Previous_Payment_Feb      0\n",
       "Previous_Payment_March    0\n",
       "Previous_Payment_April    0\n",
       "Previous_Payment_May      0\n",
       "Previous_Payment_June     0\n",
       "Default_Payment           0\n",
       "dtype: int64"
      ]
     },
     "execution_count": 5,
     "metadata": {},
     "output_type": "execute_result"
    }
   ],
   "source": [
    "#  Default_Payment (response)\n",
    "data = data.drop(['Customer ID'], axis = 1)\n",
    "data.isnull().sum()"
   ]
  },
  {
   "cell_type": "code",
   "execution_count": 6,
   "metadata": {},
   "outputs": [
    {
     "data": {
      "text/html": [
       "<div>\n",
       "<style scoped>\n",
       "    .dataframe tbody tr th:only-of-type {\n",
       "        vertical-align: middle;\n",
       "    }\n",
       "\n",
       "    .dataframe tbody tr th {\n",
       "        vertical-align: top;\n",
       "    }\n",
       "\n",
       "    .dataframe thead th {\n",
       "        text-align: right;\n",
       "    }\n",
       "</style>\n",
       "<table border=\"1\" class=\"dataframe\">\n",
       "  <thead>\n",
       "    <tr style=\"text-align: right;\">\n",
       "      <th></th>\n",
       "      <th>Credit_Amount</th>\n",
       "      <th>Gender</th>\n",
       "      <th>Academic_Qualification</th>\n",
       "      <th>Marital</th>\n",
       "      <th>Age_Years</th>\n",
       "      <th>Repayment_Status_Jan</th>\n",
       "      <th>Repayment_Status_Feb</th>\n",
       "      <th>Repayment_Status_March</th>\n",
       "      <th>Repayment_Status_April</th>\n",
       "      <th>Repayment_Status_May</th>\n",
       "      <th>...</th>\n",
       "      <th>April_Bill_Amount</th>\n",
       "      <th>May_Bill_Amount</th>\n",
       "      <th>June_Bill_Amount</th>\n",
       "      <th>Previous_Payment_Jan</th>\n",
       "      <th>Previous_Payment_Feb</th>\n",
       "      <th>Previous_Payment_March</th>\n",
       "      <th>Previous_Payment_April</th>\n",
       "      <th>Previous_Payment_May</th>\n",
       "      <th>Previous_Payment_June</th>\n",
       "      <th>Default_Payment</th>\n",
       "    </tr>\n",
       "  </thead>\n",
       "  <tbody>\n",
       "    <tr>\n",
       "      <th>count</th>\n",
       "      <td>3.000000e+04</td>\n",
       "      <td>30000.000000</td>\n",
       "      <td>30000.000000</td>\n",
       "      <td>30000.000000</td>\n",
       "      <td>30000.000000</td>\n",
       "      <td>30000.000000</td>\n",
       "      <td>30000.000000</td>\n",
       "      <td>30000.000000</td>\n",
       "      <td>30000.00000</td>\n",
       "      <td>30000.000000</td>\n",
       "      <td>...</td>\n",
       "      <td>30000.000000</td>\n",
       "      <td>30000.000000</td>\n",
       "      <td>30000.000000</td>\n",
       "      <td>30000.000000</td>\n",
       "      <td>3.000000e+04</td>\n",
       "      <td>30000.000000</td>\n",
       "      <td>30000.000000</td>\n",
       "      <td>30000.00000</td>\n",
       "      <td>30000.000000</td>\n",
       "      <td>30000.000000</td>\n",
       "    </tr>\n",
       "    <tr>\n",
       "      <th>mean</th>\n",
       "      <td>1.929173e+05</td>\n",
       "      <td>1.603733</td>\n",
       "      <td>1.855933</td>\n",
       "      <td>1.551867</td>\n",
       "      <td>35.485500</td>\n",
       "      <td>0.355200</td>\n",
       "      <td>0.319300</td>\n",
       "      <td>0.302967</td>\n",
       "      <td>0.25670</td>\n",
       "      <td>0.219500</td>\n",
       "      <td>...</td>\n",
       "      <td>55122.263933</td>\n",
       "      <td>39939.618800</td>\n",
       "      <td>38506.051533</td>\n",
       "      <td>6285.653867</td>\n",
       "      <td>7.466544e+03</td>\n",
       "      <td>5836.140567</td>\n",
       "      <td>5127.687433</td>\n",
       "      <td>5261.19120</td>\n",
       "      <td>5215.502567</td>\n",
       "      <td>0.221200</td>\n",
       "    </tr>\n",
       "    <tr>\n",
       "      <th>std</th>\n",
       "      <td>1.322888e+05</td>\n",
       "      <td>0.489129</td>\n",
       "      <td>0.794397</td>\n",
       "      <td>0.521970</td>\n",
       "      <td>9.217904</td>\n",
       "      <td>0.746984</td>\n",
       "      <td>0.796012</td>\n",
       "      <td>0.781792</td>\n",
       "      <td>0.74388</td>\n",
       "      <td>0.699954</td>\n",
       "      <td>...</td>\n",
       "      <td>83577.329356</td>\n",
       "      <td>60373.934792</td>\n",
       "      <td>59104.280171</td>\n",
       "      <td>18944.920299</td>\n",
       "      <td>3.467950e+04</td>\n",
       "      <td>20696.306703</td>\n",
       "      <td>17103.762740</td>\n",
       "      <td>16989.50685</td>\n",
       "      <td>17777.465775</td>\n",
       "      <td>0.415062</td>\n",
       "    </tr>\n",
       "    <tr>\n",
       "      <th>min</th>\n",
       "      <td>2.000000e+04</td>\n",
       "      <td>1.000000</td>\n",
       "      <td>1.000000</td>\n",
       "      <td>0.000000</td>\n",
       "      <td>21.000000</td>\n",
       "      <td>0.000000</td>\n",
       "      <td>0.000000</td>\n",
       "      <td>0.000000</td>\n",
       "      <td>0.00000</td>\n",
       "      <td>0.000000</td>\n",
       "      <td>...</td>\n",
       "      <td>-270000.000000</td>\n",
       "      <td>-81334.000000</td>\n",
       "      <td>-338603.000000</td>\n",
       "      <td>0.000000</td>\n",
       "      <td>0.000000e+00</td>\n",
       "      <td>0.000000</td>\n",
       "      <td>0.000000</td>\n",
       "      <td>0.00000</td>\n",
       "      <td>0.000000</td>\n",
       "      <td>0.000000</td>\n",
       "    </tr>\n",
       "    <tr>\n",
       "      <th>25%</th>\n",
       "      <td>5.000000e+04</td>\n",
       "      <td>1.000000</td>\n",
       "      <td>1.000000</td>\n",
       "      <td>1.000000</td>\n",
       "      <td>28.000000</td>\n",
       "      <td>0.000000</td>\n",
       "      <td>0.000000</td>\n",
       "      <td>0.000000</td>\n",
       "      <td>0.00000</td>\n",
       "      <td>0.000000</td>\n",
       "      <td>...</td>\n",
       "      <td>2671.500000</td>\n",
       "      <td>1763.000000</td>\n",
       "      <td>1256.000000</td>\n",
       "      <td>1000.000000</td>\n",
       "      <td>7.700000e+02</td>\n",
       "      <td>550.000000</td>\n",
       "      <td>333.000000</td>\n",
       "      <td>310.00000</td>\n",
       "      <td>117.750000</td>\n",
       "      <td>0.000000</td>\n",
       "    </tr>\n",
       "    <tr>\n",
       "      <th>50%</th>\n",
       "      <td>2.200000e+05</td>\n",
       "      <td>2.000000</td>\n",
       "      <td>2.000000</td>\n",
       "      <td>2.000000</td>\n",
       "      <td>34.000000</td>\n",
       "      <td>0.000000</td>\n",
       "      <td>0.000000</td>\n",
       "      <td>0.000000</td>\n",
       "      <td>0.00000</td>\n",
       "      <td>0.000000</td>\n",
       "      <td>...</td>\n",
       "      <td>25629.000000</td>\n",
       "      <td>18043.000000</td>\n",
       "      <td>17071.000000</td>\n",
       "      <td>3000.000000</td>\n",
       "      <td>2.542000e+03</td>\n",
       "      <td>1900.000000</td>\n",
       "      <td>1500.000000</td>\n",
       "      <td>1539.00000</td>\n",
       "      <td>1500.000000</td>\n",
       "      <td>0.000000</td>\n",
       "    </tr>\n",
       "    <tr>\n",
       "      <th>75%</th>\n",
       "      <td>2.700000e+05</td>\n",
       "      <td>2.000000</td>\n",
       "      <td>2.000000</td>\n",
       "      <td>2.000000</td>\n",
       "      <td>41.000000</td>\n",
       "      <td>0.000000</td>\n",
       "      <td>0.000000</td>\n",
       "      <td>0.000000</td>\n",
       "      <td>0.00000</td>\n",
       "      <td>0.000000</td>\n",
       "      <td>...</td>\n",
       "      <td>54508.500000</td>\n",
       "      <td>50190.500000</td>\n",
       "      <td>48655.250000</td>\n",
       "      <td>6000.000000</td>\n",
       "      <td>5.000000e+03</td>\n",
       "      <td>5500.000000</td>\n",
       "      <td>4013.250000</td>\n",
       "      <td>5000.00000</td>\n",
       "      <td>4000.000000</td>\n",
       "      <td>0.000000</td>\n",
       "    </tr>\n",
       "    <tr>\n",
       "      <th>max</th>\n",
       "      <td>2.000000e+06</td>\n",
       "      <td>2.000000</td>\n",
       "      <td>6.000000</td>\n",
       "      <td>3.000000</td>\n",
       "      <td>79.000000</td>\n",
       "      <td>6.000000</td>\n",
       "      <td>6.000000</td>\n",
       "      <td>6.000000</td>\n",
       "      <td>6.00000</td>\n",
       "      <td>6.000000</td>\n",
       "      <td>...</td>\n",
       "      <td>992596.000000</td>\n",
       "      <td>827171.000000</td>\n",
       "      <td>861664.000000</td>\n",
       "      <td>973663.000000</td>\n",
       "      <td>2.674259e+06</td>\n",
       "      <td>999055.000000</td>\n",
       "      <td>538897.000000</td>\n",
       "      <td>536539.00000</td>\n",
       "      <td>528666.000000</td>\n",
       "      <td>1.000000</td>\n",
       "    </tr>\n",
       "  </tbody>\n",
       "</table>\n",
       "<p>8 rows × 24 columns</p>\n",
       "</div>"
      ],
      "text/plain": [
       "       Credit_Amount        Gender  Academic_Qualification       Marital  \\\n",
       "count   3.000000e+04  30000.000000            30000.000000  30000.000000   \n",
       "mean    1.929173e+05      1.603733                1.855933      1.551867   \n",
       "std     1.322888e+05      0.489129                0.794397      0.521970   \n",
       "min     2.000000e+04      1.000000                1.000000      0.000000   \n",
       "25%     5.000000e+04      1.000000                1.000000      1.000000   \n",
       "50%     2.200000e+05      2.000000                2.000000      2.000000   \n",
       "75%     2.700000e+05      2.000000                2.000000      2.000000   \n",
       "max     2.000000e+06      2.000000                6.000000      3.000000   \n",
       "\n",
       "          Age_Years  Repayment_Status_Jan  Repayment_Status_Feb  \\\n",
       "count  30000.000000          30000.000000          30000.000000   \n",
       "mean      35.485500              0.355200              0.319300   \n",
       "std        9.217904              0.746984              0.796012   \n",
       "min       21.000000              0.000000              0.000000   \n",
       "25%       28.000000              0.000000              0.000000   \n",
       "50%       34.000000              0.000000              0.000000   \n",
       "75%       41.000000              0.000000              0.000000   \n",
       "max       79.000000              6.000000              6.000000   \n",
       "\n",
       "       Repayment_Status_March  Repayment_Status_April  Repayment_Status_May  \\\n",
       "count            30000.000000             30000.00000          30000.000000   \n",
       "mean                 0.302967                 0.25670              0.219500   \n",
       "std                  0.781792                 0.74388              0.699954   \n",
       "min                  0.000000                 0.00000              0.000000   \n",
       "25%                  0.000000                 0.00000              0.000000   \n",
       "50%                  0.000000                 0.00000              0.000000   \n",
       "75%                  0.000000                 0.00000              0.000000   \n",
       "max                  6.000000                 6.00000              6.000000   \n",
       "\n",
       "       ...  April_Bill_Amount  May_Bill_Amount  June_Bill_Amount  \\\n",
       "count  ...       30000.000000     30000.000000      30000.000000   \n",
       "mean   ...       55122.263933     39939.618800      38506.051533   \n",
       "std    ...       83577.329356     60373.934792      59104.280171   \n",
       "min    ...     -270000.000000    -81334.000000    -338603.000000   \n",
       "25%    ...        2671.500000      1763.000000       1256.000000   \n",
       "50%    ...       25629.000000     18043.000000      17071.000000   \n",
       "75%    ...       54508.500000     50190.500000      48655.250000   \n",
       "max    ...      992596.000000    827171.000000     861664.000000   \n",
       "\n",
       "       Previous_Payment_Jan  Previous_Payment_Feb  Previous_Payment_March  \\\n",
       "count          30000.000000          3.000000e+04            30000.000000   \n",
       "mean            6285.653867          7.466544e+03             5836.140567   \n",
       "std            18944.920299          3.467950e+04            20696.306703   \n",
       "min                0.000000          0.000000e+00                0.000000   \n",
       "25%             1000.000000          7.700000e+02              550.000000   \n",
       "50%             3000.000000          2.542000e+03             1900.000000   \n",
       "75%             6000.000000          5.000000e+03             5500.000000   \n",
       "max           973663.000000          2.674259e+06           999055.000000   \n",
       "\n",
       "       Previous_Payment_April  Previous_Payment_May  Previous_Payment_June  \\\n",
       "count            30000.000000           30000.00000           30000.000000   \n",
       "mean              5127.687433            5261.19120            5215.502567   \n",
       "std              17103.762740           16989.50685           17777.465775   \n",
       "min                  0.000000               0.00000               0.000000   \n",
       "25%                333.000000             310.00000             117.750000   \n",
       "50%               1500.000000            1539.00000            1500.000000   \n",
       "75%               4013.250000            5000.00000            4000.000000   \n",
       "max             538897.000000          536539.00000          528666.000000   \n",
       "\n",
       "       Default_Payment  \n",
       "count     30000.000000  \n",
       "mean          0.221200  \n",
       "std           0.415062  \n",
       "min           0.000000  \n",
       "25%           0.000000  \n",
       "50%           0.000000  \n",
       "75%           0.000000  \n",
       "max           1.000000  \n",
       "\n",
       "[8 rows x 24 columns]"
      ]
     },
     "execution_count": 6,
     "metadata": {},
     "output_type": "execute_result"
    }
   ],
   "source": [
    "data.describe()"
   ]
  },
  {
   "cell_type": "code",
   "execution_count": 7,
   "metadata": {},
   "outputs": [],
   "source": [
    "catCols = [\"Gender\", \"Academic_Qualification\", \"Marital\", \"Repayment_Status_Jan\", \"Repayment_Status_Feb\",\n",
    "            \"Repayment_Status_March\", \"Repayment_Status_April\", \"Repayment_Status_May\", \"Repayment_Status_June\",\n",
    "            \"Default_Payment\"]"
   ]
  },
  {
   "cell_type": "markdown",
   "metadata": {},
   "source": [
    "## EDA"
   ]
  },
  {
   "cell_type": "code",
   "execution_count": 8,
   "metadata": {},
   "outputs": [
    {
     "data": {
      "text/plain": [
       "<matplotlib.axes._subplots.AxesSubplot at 0x2d2283729b0>"
      ]
     },
     "execution_count": 8,
     "metadata": {},
     "output_type": "execute_result"
    },
    {
     "data": {
      "image/png": "[encoded data removed]",
      "text/plain": [
       "<Figure size 432x288 with 1 Axes>"
      ]
     },
     "metadata": {
      "needs_background": "light"
     },
     "output_type": "display_data"
    }
   ],
   "source": [
    "## Target variable -------------------------------------------------------------------\n",
    "\n",
    "sns.countplot(x=data['Default_Payment'])"
   ]
  },
  {
   "cell_type": "code",
   "execution_count": 9,
   "metadata": {},
   "outputs": [
    {
     "data": {
      "text/plain": [
       "0    0.78\n",
       "1    0.22\n",
       "Name: Default_Payment, dtype: float64"
      ]
     },
     "execution_count": 9,
     "metadata": {},
     "output_type": "execute_result"
    }
   ],
   "source": [
    "# percentage of 0's and 1's\n",
    "np.round(data.Default_Payment.value_counts()/data.shape[0],2)\n",
    "# to get percentage simply divide feature value count with data shape or dimension and we can also round off\n",
    "## imbalanced data: We observe that data is imbalanced here"
   ]
  },
  {
   "cell_type": "code",
   "execution_count": 10,
   "metadata": {},
   "outputs": [],
   "source": [
    "# \"\"\"EDA categorical independent features\"\"\"# ------------------------------------------------"
   ]
  },
  {
   "cell_type": "code",
   "execution_count": 12,
   "metadata": {},
   "outputs": [
    {
     "data": {
      "image/png": "[encoded data removed]",
      "text/plain": [
       "<Figure size 504x504 with 4 Axes>"
      ]
     },
     "metadata": {},
     "output_type": "display_data"
    }
   ],
   "source": [
    "\n",
    "# Set up the matplotlib figure\n",
    "sns.set(style='darkgrid', palette='RdBu', font='sans-serif', font_scale=1, color_codes=True, rc=None)\n",
    "\n",
    "#'''https://seaborn.pydata.org/generated/seaborn.set.html'''\n",
    "\n",
    "f, axes = plt.subplots(2, 2, figsize=(7, 7), sharex=False) #Controls sharing of properties among x (sharex) \n",
    "#or y (sharey) axes:\n",
    "\n",
    "#'''  True or 'all': x- or y-axis will be shared among all subplots.\n",
    "#False or 'none': each subplot x- or y-axis will be independent.\n",
    "#'row': each subplot row will share an x- or y-axis.\n",
    "#'col': each subplot column will share an x- or y-axis.'''\n",
    "\n",
    "sns.despine(left=False)\n",
    "\n",
    "#'''seaborn.despine(fig=None, ax=None, top=True, right=True, left=False, bottom=False, offset=None, trim=False)\n",
    "#Remove the top and right spines from plot(s).'''\n",
    "\n",
    "sns.countplot(x=data['Gender'], hue = 'Default_Payment', data = data, ax = axes[0][0])\n",
    "sns.countplot(x=data['Academic_Qualification'], hue = 'Default_Payment', data = data, ax = axes[1][0])\n",
    "sns.countplot(x=data['Marital'],  hue = 'Default_Payment', data = data, ax = axes[0][1])\n",
    "plt.setp(axes, yticks=[])\n",
    "plt.tight_layout()\n"
   ]
  },
  {
   "cell_type": "code",
   "execution_count": 13,
   "metadata": {},
   "outputs": [
    {
     "data": {
      "image/png": "[encoded data removed]",
      "text/plain": [
       "<Figure size 504x504 with 4 Axes>"
      ]
     },
     "metadata": {},
     "output_type": "display_data"
    }
   ],
   "source": [
    "#\"\"\"  BOX PLOT APPROACH for above but to show X vs Y i.e. Dependent vs Independent variable  \"\"\"\n",
    "\n",
    "sns.set(style='darkgrid', palette='RdBu', font='sans-serif', font_scale=1, color_codes=True, rc=None)\n",
    "f, axes = plt.subplots(2, 2, figsize=(7, 7), sharex=False) #Controls sharing of properties among x (sharex) \n",
    "sns.despine(left=False)\n",
    "sns.barplot(x=data['Gender'], y=data['Default_Payment'], data = data, ax = axes[0][0])\n",
    "sns.barplot(x=data['Academic_Qualification'], y=data['Default_Payment'], data = data, ax = axes[1][0])\n",
    "sns.barplot(x=data['Marital'], y=data['Default_Payment'], data = data, ax = axes[0][1])\n",
    "plt.setp(axes, yticks=[])\n",
    "plt.tight_layout()"
   ]
  },
  {
   "cell_type": "markdown",
   "metadata": {},
   "source": [
    "Now We will create Function to check proportions of our data for each categorical variable "
   ]
  },
  {
   "cell_type": "code",
   "execution_count": 14,
   "metadata": {},
   "outputs": [],
   "source": [
    "def createProportions(df,colName, dependentColName):\n",
    "    \n",
    "    tab = pd.crosstab(df[colName],  df[dependentColName],margins = False)\n",
    "    prop = []\n",
    "    for i in range(tab.shape[0]):\n",
    "        value = tab.iloc[i,1]/tab.iloc[i,0]\n",
    "        prop.append(value)\n",
    "    tab['prop'] = prop\n",
    "\n",
    "    return tab"
   ]
  },
  {
   "cell_type": "code",
   "execution_count": 15,
   "metadata": {},
   "outputs": [
    {
     "data": {
      "text/html": [
       "<div>\n",
       "<style scoped>\n",
       "    .dataframe tbody tr th:only-of-type {\n",
       "        vertical-align: middle;\n",
       "    }\n",
       "\n",
       "    .dataframe tbody tr th {\n",
       "        vertical-align: top;\n",
       "    }\n",
       "\n",
       "    .dataframe thead th {\n",
       "        text-align: right;\n",
       "    }\n",
       "</style>\n",
       "<table border=\"1\" class=\"dataframe\">\n",
       "  <thead>\n",
       "    <tr style=\"text-align: right;\">\n",
       "      <th>Default_Payment</th>\n",
       "      <th>0</th>\n",
       "      <th>1</th>\n",
       "      <th>prop</th>\n",
       "    </tr>\n",
       "    <tr>\n",
       "      <th>Marital</th>\n",
       "      <th></th>\n",
       "      <th></th>\n",
       "      <th></th>\n",
       "    </tr>\n",
       "  </thead>\n",
       "  <tbody>\n",
       "    <tr>\n",
       "      <th>0</th>\n",
       "      <td>49</td>\n",
       "      <td>5</td>\n",
       "      <td>0.102041</td>\n",
       "    </tr>\n",
       "    <tr>\n",
       "      <th>1</th>\n",
       "      <td>10453</td>\n",
       "      <td>3206</td>\n",
       "      <td>0.306706</td>\n",
       "    </tr>\n",
       "    <tr>\n",
       "      <th>2</th>\n",
       "      <td>12623</td>\n",
       "      <td>3341</td>\n",
       "      <td>0.264676</td>\n",
       "    </tr>\n",
       "    <tr>\n",
       "      <th>3</th>\n",
       "      <td>239</td>\n",
       "      <td>84</td>\n",
       "      <td>0.351464</td>\n",
       "    </tr>\n",
       "  </tbody>\n",
       "</table>\n",
       "</div>"
      ],
      "text/plain": [
       "Default_Payment      0     1      prop\n",
       "Marital                               \n",
       "0                   49     5  0.102041\n",
       "1                10453  3206  0.306706\n",
       "2                12623  3341  0.264676\n",
       "3                  239    84  0.351464"
      ]
     },
     "execution_count": 15,
     "metadata": {},
     "output_type": "execute_result"
    }
   ],
   "source": [
    "createProportions(data,'Marital', 'Default_Payment')"
   ]
  },
  {
   "cell_type": "code",
   "execution_count": 16,
   "metadata": {},
   "outputs": [
    {
     "data": {
      "text/html": [
       "<div>\n",
       "<style scoped>\n",
       "    .dataframe tbody tr th:only-of-type {\n",
       "        vertical-align: middle;\n",
       "    }\n",
       "\n",
       "    .dataframe tbody tr th {\n",
       "        vertical-align: top;\n",
       "    }\n",
       "\n",
       "    .dataframe thead th {\n",
       "        text-align: right;\n",
       "    }\n",
       "</style>\n",
       "<table border=\"1\" class=\"dataframe\">\n",
       "  <thead>\n",
       "    <tr style=\"text-align: right;\">\n",
       "      <th>Default_Payment</th>\n",
       "      <th>0</th>\n",
       "      <th>1</th>\n",
       "      <th>prop</th>\n",
       "    </tr>\n",
       "    <tr>\n",
       "      <th>Academic_Qualification</th>\n",
       "      <th></th>\n",
       "      <th></th>\n",
       "      <th></th>\n",
       "    </tr>\n",
       "  </thead>\n",
       "  <tbody>\n",
       "    <tr>\n",
       "      <th>1</th>\n",
       "      <td>8549</td>\n",
       "      <td>2036</td>\n",
       "      <td>0.238157</td>\n",
       "    </tr>\n",
       "    <tr>\n",
       "      <th>2</th>\n",
       "      <td>10700</td>\n",
       "      <td>3330</td>\n",
       "      <td>0.311215</td>\n",
       "    </tr>\n",
       "    <tr>\n",
       "      <th>3</th>\n",
       "      <td>3680</td>\n",
       "      <td>1237</td>\n",
       "      <td>0.336141</td>\n",
       "    </tr>\n",
       "    <tr>\n",
       "      <th>4</th>\n",
       "      <td>116</td>\n",
       "      <td>7</td>\n",
       "      <td>0.060345</td>\n",
       "    </tr>\n",
       "    <tr>\n",
       "      <th>5</th>\n",
       "      <td>262</td>\n",
       "      <td>18</td>\n",
       "      <td>0.068702</td>\n",
       "    </tr>\n",
       "    <tr>\n",
       "      <th>6</th>\n",
       "      <td>57</td>\n",
       "      <td>8</td>\n",
       "      <td>0.140351</td>\n",
       "    </tr>\n",
       "  </tbody>\n",
       "</table>\n",
       "</div>"
      ],
      "text/plain": [
       "Default_Payment             0     1      prop\n",
       "Academic_Qualification                       \n",
       "1                        8549  2036  0.238157\n",
       "2                       10700  3330  0.311215\n",
       "3                        3680  1237  0.336141\n",
       "4                         116     7  0.060345\n",
       "5                         262    18  0.068702\n",
       "6                          57     8  0.140351"
      ]
     },
     "execution_count": 16,
     "metadata": {},
     "output_type": "execute_result"
    }
   ],
   "source": [
    "createProportions(data,'Academic_Qualification', 'Default_Payment')"
   ]
  },
  {
   "cell_type": "code",
   "execution_count": 17,
   "metadata": {},
   "outputs": [
    {
     "data": {
      "text/html": [
       "<div>\n",
       "<style scoped>\n",
       "    .dataframe tbody tr th:only-of-type {\n",
       "        vertical-align: middle;\n",
       "    }\n",
       "\n",
       "    .dataframe tbody tr th {\n",
       "        vertical-align: top;\n",
       "    }\n",
       "\n",
       "    .dataframe thead th {\n",
       "        text-align: right;\n",
       "    }\n",
       "</style>\n",
       "<table border=\"1\" class=\"dataframe\">\n",
       "  <thead>\n",
       "    <tr style=\"text-align: right;\">\n",
       "      <th>Default_Payment</th>\n",
       "      <th>0</th>\n",
       "      <th>1</th>\n",
       "      <th>prop</th>\n",
       "    </tr>\n",
       "    <tr>\n",
       "      <th>Gender</th>\n",
       "      <th></th>\n",
       "      <th></th>\n",
       "      <th></th>\n",
       "    </tr>\n",
       "  </thead>\n",
       "  <tbody>\n",
       "    <tr>\n",
       "      <th>1</th>\n",
       "      <td>9015</td>\n",
       "      <td>2873</td>\n",
       "      <td>0.318691</td>\n",
       "    </tr>\n",
       "    <tr>\n",
       "      <th>2</th>\n",
       "      <td>14349</td>\n",
       "      <td>3763</td>\n",
       "      <td>0.262248</td>\n",
       "    </tr>\n",
       "  </tbody>\n",
       "</table>\n",
       "</div>"
      ],
      "text/plain": [
       "Default_Payment      0     1      prop\n",
       "Gender                                \n",
       "1                 9015  2873  0.318691\n",
       "2                14349  3763  0.262248"
      ]
     },
     "execution_count": 17,
     "metadata": {},
     "output_type": "execute_result"
    }
   ],
   "source": [
    "createProportions(data,'Gender', 'Default_Payment')"
   ]
  },
  {
   "cell_type": "code",
   "execution_count": 18,
   "metadata": {},
   "outputs": [
    {
     "data": {
      "image/png": "[encoded data removed]",
      "text/plain": [
       "<Figure size 504x504 with 6 Axes>"
      ]
     },
     "metadata": {},
     "output_type": "display_data"
    }
   ],
   "source": [
    "# Set up the matplotlib figure\n",
    "sns.set(style=\"white\", palette=\"RdBu\", color_codes=True)\n",
    "f, axes = plt.subplots(3, 2, figsize=(7, 7), sharex=False)\n",
    "sns.despine(left=True)\n",
    "sns.countplot(x=data['Repayment_Status_Jan'], hue = 'Default_Payment', data = data, ax = axes[0][0])\n",
    "sns.countplot(x=data['Repayment_Status_Feb'], hue = 'Default_Payment', data = data, ax = axes[0][1])\n",
    "sns.countplot(x=data['Repayment_Status_March'],  hue = 'Default_Payment', data = data, ax = axes[1][0])\n",
    "sns.countplot(x=data['Repayment_Status_April'], hue = 'Default_Payment', data = data, ax = axes[1][1])\n",
    "sns.countplot(x=data['Repayment_Status_May'], hue = 'Default_Payment', data = data, ax = axes[2][0])\n",
    "sns.countplot(x=data['Repayment_Status_June'],  hue = 'Default_Payment', data = data, ax = axes[2][1])\n",
    "plt.setp(axes, yticks=[])\n",
    "plt.tight_layout()"
   ]
  },
  {
   "cell_type": "code",
   "execution_count": 19,
   "metadata": {},
   "outputs": [
    {
     "data": {
      "text/html": [
       "<div>\n",
       "<style scoped>\n",
       "    .dataframe tbody tr th:only-of-type {\n",
       "        vertical-align: middle;\n",
       "    }\n",
       "\n",
       "    .dataframe tbody tr th {\n",
       "        vertical-align: top;\n",
       "    }\n",
       "\n",
       "    .dataframe thead th {\n",
       "        text-align: right;\n",
       "    }\n",
       "</style>\n",
       "<table border=\"1\" class=\"dataframe\">\n",
       "  <thead>\n",
       "    <tr style=\"text-align: right;\">\n",
       "      <th>Default_Payment</th>\n",
       "      <th>0</th>\n",
       "      <th>1</th>\n",
       "      <th>prop</th>\n",
       "    </tr>\n",
       "    <tr>\n",
       "      <th>Repayment_Status_Jan</th>\n",
       "      <th></th>\n",
       "      <th></th>\n",
       "      <th></th>\n",
       "    </tr>\n",
       "  </thead>\n",
       "  <tbody>\n",
       "    <tr>\n",
       "      <th>0</th>\n",
       "      <td>19975</td>\n",
       "      <td>3207</td>\n",
       "      <td>0.160551</td>\n",
       "    </tr>\n",
       "    <tr>\n",
       "      <th>1</th>\n",
       "      <td>2436</td>\n",
       "      <td>1252</td>\n",
       "      <td>0.513957</td>\n",
       "    </tr>\n",
       "    <tr>\n",
       "      <th>2</th>\n",
       "      <td>823</td>\n",
       "      <td>1844</td>\n",
       "      <td>2.240583</td>\n",
       "    </tr>\n",
       "    <tr>\n",
       "      <th>3</th>\n",
       "      <td>78</td>\n",
       "      <td>244</td>\n",
       "      <td>3.128205</td>\n",
       "    </tr>\n",
       "    <tr>\n",
       "      <th>4</th>\n",
       "      <td>24</td>\n",
       "      <td>52</td>\n",
       "      <td>2.166667</td>\n",
       "    </tr>\n",
       "    <tr>\n",
       "      <th>5</th>\n",
       "      <td>13</td>\n",
       "      <td>13</td>\n",
       "      <td>1.000000</td>\n",
       "    </tr>\n",
       "    <tr>\n",
       "      <th>6</th>\n",
       "      <td>15</td>\n",
       "      <td>24</td>\n",
       "      <td>1.600000</td>\n",
       "    </tr>\n",
       "  </tbody>\n",
       "</table>\n",
       "</div>"
      ],
      "text/plain": [
       "Default_Payment           0     1      prop\n",
       "Repayment_Status_Jan                       \n",
       "0                     19975  3207  0.160551\n",
       "1                      2436  1252  0.513957\n",
       "2                       823  1844  2.240583\n",
       "3                        78   244  3.128205\n",
       "4                        24    52  2.166667\n",
       "5                        13    13  1.000000\n",
       "6                        15    24  1.600000"
      ]
     },
     "execution_count": 19,
     "metadata": {},
     "output_type": "execute_result"
    }
   ],
   "source": [
    "createProportions(data,'Repayment_Status_Jan', 'Default_Payment')"
   ]
  },
  {
   "cell_type": "code",
   "execution_count": 20,
   "metadata": {},
   "outputs": [
    {
     "data": {
      "text/html": [
       "<div>\n",
       "<style scoped>\n",
       "    .dataframe tbody tr th:only-of-type {\n",
       "        vertical-align: middle;\n",
       "    }\n",
       "\n",
       "    .dataframe tbody tr th {\n",
       "        vertical-align: top;\n",
       "    }\n",
       "\n",
       "    .dataframe thead th {\n",
       "        text-align: right;\n",
       "    }\n",
       "</style>\n",
       "<table border=\"1\" class=\"dataframe\">\n",
       "  <thead>\n",
       "    <tr style=\"text-align: right;\">\n",
       "      <th>Default_Payment</th>\n",
       "      <th>0</th>\n",
       "      <th>1</th>\n",
       "      <th>prop</th>\n",
       "    </tr>\n",
       "    <tr>\n",
       "      <th>Repayment_Status_Feb</th>\n",
       "      <th></th>\n",
       "      <th></th>\n",
       "      <th></th>\n",
       "    </tr>\n",
       "  </thead>\n",
       "  <tbody>\n",
       "    <tr>\n",
       "      <th>0</th>\n",
       "      <td>21402</td>\n",
       "      <td>4160</td>\n",
       "      <td>0.194374</td>\n",
       "    </tr>\n",
       "    <tr>\n",
       "      <th>1</th>\n",
       "      <td>23</td>\n",
       "      <td>5</td>\n",
       "      <td>0.217391</td>\n",
       "    </tr>\n",
       "    <tr>\n",
       "      <th>2</th>\n",
       "      <td>1743</td>\n",
       "      <td>2184</td>\n",
       "      <td>1.253012</td>\n",
       "    </tr>\n",
       "    <tr>\n",
       "      <th>3</th>\n",
       "      <td>125</td>\n",
       "      <td>201</td>\n",
       "      <td>1.608000</td>\n",
       "    </tr>\n",
       "    <tr>\n",
       "      <th>4</th>\n",
       "      <td>49</td>\n",
       "      <td>50</td>\n",
       "      <td>1.020408</td>\n",
       "    </tr>\n",
       "    <tr>\n",
       "      <th>5</th>\n",
       "      <td>10</td>\n",
       "      <td>15</td>\n",
       "      <td>1.500000</td>\n",
       "    </tr>\n",
       "    <tr>\n",
       "      <th>6</th>\n",
       "      <td>12</td>\n",
       "      <td>21</td>\n",
       "      <td>1.750000</td>\n",
       "    </tr>\n",
       "  </tbody>\n",
       "</table>\n",
       "</div>"
      ],
      "text/plain": [
       "Default_Payment           0     1      prop\n",
       "Repayment_Status_Feb                       \n",
       "0                     21402  4160  0.194374\n",
       "1                        23     5  0.217391\n",
       "2                      1743  2184  1.253012\n",
       "3                       125   201  1.608000\n",
       "4                        49    50  1.020408\n",
       "5                        10    15  1.500000\n",
       "6                        12    21  1.750000"
      ]
     },
     "execution_count": 20,
     "metadata": {},
     "output_type": "execute_result"
    }
   ],
   "source": [
    "createProportions(data,'Repayment_Status_Feb', 'Default_Payment')"
   ]
  },
  {
   "cell_type": "code",
   "execution_count": 21,
   "metadata": {},
   "outputs": [
    {
     "data": {
      "text/html": [
       "<div>\n",
       "<style scoped>\n",
       "    .dataframe tbody tr th:only-of-type {\n",
       "        vertical-align: middle;\n",
       "    }\n",
       "\n",
       "    .dataframe tbody tr th {\n",
       "        vertical-align: top;\n",
       "    }\n",
       "\n",
       "    .dataframe thead th {\n",
       "        text-align: right;\n",
       "    }\n",
       "</style>\n",
       "<table border=\"1\" class=\"dataframe\">\n",
       "  <thead>\n",
       "    <tr style=\"text-align: right;\">\n",
       "      <th>Default_Payment</th>\n",
       "      <th>0</th>\n",
       "      <th>1</th>\n",
       "      <th>prop</th>\n",
       "    </tr>\n",
       "    <tr>\n",
       "      <th>Repayment_Status_March</th>\n",
       "      <th></th>\n",
       "      <th></th>\n",
       "      <th></th>\n",
       "    </tr>\n",
       "  </thead>\n",
       "  <tbody>\n",
       "    <tr>\n",
       "      <th>0</th>\n",
       "      <td>21353</td>\n",
       "      <td>4434</td>\n",
       "      <td>0.207652</td>\n",
       "    </tr>\n",
       "    <tr>\n",
       "      <th>1</th>\n",
       "      <td>3</td>\n",
       "      <td>1</td>\n",
       "      <td>0.333333</td>\n",
       "    </tr>\n",
       "    <tr>\n",
       "      <th>2</th>\n",
       "      <td>1850</td>\n",
       "      <td>1969</td>\n",
       "      <td>1.064324</td>\n",
       "    </tr>\n",
       "    <tr>\n",
       "      <th>3</th>\n",
       "      <td>102</td>\n",
       "      <td>138</td>\n",
       "      <td>1.352941</td>\n",
       "    </tr>\n",
       "    <tr>\n",
       "      <th>4</th>\n",
       "      <td>32</td>\n",
       "      <td>44</td>\n",
       "      <td>1.375000</td>\n",
       "    </tr>\n",
       "    <tr>\n",
       "      <th>5</th>\n",
       "      <td>9</td>\n",
       "      <td>12</td>\n",
       "      <td>1.333333</td>\n",
       "    </tr>\n",
       "    <tr>\n",
       "      <th>6</th>\n",
       "      <td>15</td>\n",
       "      <td>38</td>\n",
       "      <td>2.533333</td>\n",
       "    </tr>\n",
       "  </tbody>\n",
       "</table>\n",
       "</div>"
      ],
      "text/plain": [
       "Default_Payment             0     1      prop\n",
       "Repayment_Status_March                       \n",
       "0                       21353  4434  0.207652\n",
       "1                           3     1  0.333333\n",
       "2                        1850  1969  1.064324\n",
       "3                         102   138  1.352941\n",
       "4                          32    44  1.375000\n",
       "5                           9    12  1.333333\n",
       "6                          15    38  2.533333"
      ]
     },
     "execution_count": 21,
     "metadata": {},
     "output_type": "execute_result"
    }
   ],
   "source": [
    "createProportions(data,'Repayment_Status_March', 'Default_Payment')"
   ]
  },
  {
   "cell_type": "code",
   "execution_count": 22,
   "metadata": {},
   "outputs": [
    {
     "data": {
      "text/html": [
       "<div>\n",
       "<style scoped>\n",
       "    .dataframe tbody tr th:only-of-type {\n",
       "        vertical-align: middle;\n",
       "    }\n",
       "\n",
       "    .dataframe tbody tr th {\n",
       "        vertical-align: top;\n",
       "    }\n",
       "\n",
       "    .dataframe thead th {\n",
       "        text-align: right;\n",
       "    }\n",
       "</style>\n",
       "<table border=\"1\" class=\"dataframe\">\n",
       "  <thead>\n",
       "    <tr style=\"text-align: right;\">\n",
       "      <th>Default_Payment</th>\n",
       "      <th>0</th>\n",
       "      <th>1</th>\n",
       "      <th>prop</th>\n",
       "    </tr>\n",
       "    <tr>\n",
       "      <th>Repayment_Status_April</th>\n",
       "      <th></th>\n",
       "      <th></th>\n",
       "      <th></th>\n",
       "    </tr>\n",
       "  </thead>\n",
       "  <tbody>\n",
       "    <tr>\n",
       "      <th>0</th>\n",
       "      <td>21733</td>\n",
       "      <td>4757</td>\n",
       "      <td>0.218884</td>\n",
       "    </tr>\n",
       "    <tr>\n",
       "      <th>1</th>\n",
       "      <td>1</td>\n",
       "      <td>1</td>\n",
       "      <td>1.000000</td>\n",
       "    </tr>\n",
       "    <tr>\n",
       "      <th>2</th>\n",
       "      <td>1506</td>\n",
       "      <td>1653</td>\n",
       "      <td>1.097610</td>\n",
       "    </tr>\n",
       "    <tr>\n",
       "      <th>3</th>\n",
       "      <td>70</td>\n",
       "      <td>110</td>\n",
       "      <td>1.571429</td>\n",
       "    </tr>\n",
       "    <tr>\n",
       "      <th>4</th>\n",
       "      <td>23</td>\n",
       "      <td>46</td>\n",
       "      <td>2.000000</td>\n",
       "    </tr>\n",
       "    <tr>\n",
       "      <th>5</th>\n",
       "      <td>17</td>\n",
       "      <td>18</td>\n",
       "      <td>1.058824</td>\n",
       "    </tr>\n",
       "    <tr>\n",
       "      <th>6</th>\n",
       "      <td>14</td>\n",
       "      <td>51</td>\n",
       "      <td>3.642857</td>\n",
       "    </tr>\n",
       "  </tbody>\n",
       "</table>\n",
       "</div>"
      ],
      "text/plain": [
       "Default_Payment             0     1      prop\n",
       "Repayment_Status_April                       \n",
       "0                       21733  4757  0.218884\n",
       "1                           1     1  1.000000\n",
       "2                        1506  1653  1.097610\n",
       "3                          70   110  1.571429\n",
       "4                          23    46  2.000000\n",
       "5                          17    18  1.058824\n",
       "6                          14    51  3.642857"
      ]
     },
     "execution_count": 22,
     "metadata": {},
     "output_type": "execute_result"
    }
   ],
   "source": [
    "createProportions(data,'Repayment_Status_April', 'Default_Payment')"
   ]
  },
  {
   "cell_type": "code",
   "execution_count": 23,
   "metadata": {},
   "outputs": [
    {
     "data": {
      "text/html": [
       "<div>\n",
       "<style scoped>\n",
       "    .dataframe tbody tr th:only-of-type {\n",
       "        vertical-align: middle;\n",
       "    }\n",
       "\n",
       "    .dataframe tbody tr th {\n",
       "        vertical-align: top;\n",
       "    }\n",
       "\n",
       "    .dataframe thead th {\n",
       "        text-align: right;\n",
       "    }\n",
       "</style>\n",
       "<table border=\"1\" class=\"dataframe\">\n",
       "  <thead>\n",
       "    <tr style=\"text-align: right;\">\n",
       "      <th>Default_Payment</th>\n",
       "      <th>0</th>\n",
       "      <th>1</th>\n",
       "      <th>prop</th>\n",
       "    </tr>\n",
       "    <tr>\n",
       "      <th>Repayment_Status_May</th>\n",
       "      <th></th>\n",
       "      <th></th>\n",
       "      <th></th>\n",
       "    </tr>\n",
       "  </thead>\n",
       "  <tbody>\n",
       "    <tr>\n",
       "      <th>0</th>\n",
       "      <td>22045</td>\n",
       "      <td>4987</td>\n",
       "      <td>0.226219</td>\n",
       "    </tr>\n",
       "    <tr>\n",
       "      <th>2</th>\n",
       "      <td>1203</td>\n",
       "      <td>1423</td>\n",
       "      <td>1.182876</td>\n",
       "    </tr>\n",
       "    <tr>\n",
       "      <th>3</th>\n",
       "      <td>65</td>\n",
       "      <td>113</td>\n",
       "      <td>1.738462</td>\n",
       "    </tr>\n",
       "    <tr>\n",
       "      <th>4</th>\n",
       "      <td>33</td>\n",
       "      <td>51</td>\n",
       "      <td>1.545455</td>\n",
       "    </tr>\n",
       "    <tr>\n",
       "      <th>5</th>\n",
       "      <td>7</td>\n",
       "      <td>10</td>\n",
       "      <td>1.428571</td>\n",
       "    </tr>\n",
       "    <tr>\n",
       "      <th>6</th>\n",
       "      <td>11</td>\n",
       "      <td>52</td>\n",
       "      <td>4.727273</td>\n",
       "    </tr>\n",
       "  </tbody>\n",
       "</table>\n",
       "</div>"
      ],
      "text/plain": [
       "Default_Payment           0     1      prop\n",
       "Repayment_Status_May                       \n",
       "0                     22045  4987  0.226219\n",
       "2                      1203  1423  1.182876\n",
       "3                        65   113  1.738462\n",
       "4                        33    51  1.545455\n",
       "5                         7    10  1.428571\n",
       "6                        11    52  4.727273"
      ]
     },
     "execution_count": 23,
     "metadata": {},
     "output_type": "execute_result"
    }
   ],
   "source": [
    "createProportions(data,'Repayment_Status_May', 'Default_Payment')"
   ]
  },
  {
   "cell_type": "code",
   "execution_count": 24,
   "metadata": {},
   "outputs": [
    {
     "data": {
      "text/html": [
       "<div>\n",
       "<style scoped>\n",
       "    .dataframe tbody tr th:only-of-type {\n",
       "        vertical-align: middle;\n",
       "    }\n",
       "\n",
       "    .dataframe tbody tr th {\n",
       "        vertical-align: top;\n",
       "    }\n",
       "\n",
       "    .dataframe thead th {\n",
       "        text-align: right;\n",
       "    }\n",
       "</style>\n",
       "<table border=\"1\" class=\"dataframe\">\n",
       "  <thead>\n",
       "    <tr style=\"text-align: right;\">\n",
       "      <th>Default_Payment</th>\n",
       "      <th>0</th>\n",
       "      <th>1</th>\n",
       "      <th>prop</th>\n",
       "    </tr>\n",
       "    <tr>\n",
       "      <th>Repayment_Status_June</th>\n",
       "      <th></th>\n",
       "      <th></th>\n",
       "      <th></th>\n",
       "    </tr>\n",
       "  </thead>\n",
       "  <tbody>\n",
       "    <tr>\n",
       "      <th>0</th>\n",
       "      <td>21896</td>\n",
       "      <td>5025</td>\n",
       "      <td>0.229494</td>\n",
       "    </tr>\n",
       "    <tr>\n",
       "      <th>2</th>\n",
       "      <td>1365</td>\n",
       "      <td>1401</td>\n",
       "      <td>1.026374</td>\n",
       "    </tr>\n",
       "    <tr>\n",
       "      <th>3</th>\n",
       "      <td>66</td>\n",
       "      <td>118</td>\n",
       "      <td>1.787879</td>\n",
       "    </tr>\n",
       "    <tr>\n",
       "      <th>4</th>\n",
       "      <td>18</td>\n",
       "      <td>31</td>\n",
       "      <td>1.722222</td>\n",
       "    </tr>\n",
       "    <tr>\n",
       "      <th>5</th>\n",
       "      <td>6</td>\n",
       "      <td>7</td>\n",
       "      <td>1.166667</td>\n",
       "    </tr>\n",
       "    <tr>\n",
       "      <th>6</th>\n",
       "      <td>13</td>\n",
       "      <td>54</td>\n",
       "      <td>4.153846</td>\n",
       "    </tr>\n",
       "  </tbody>\n",
       "</table>\n",
       "</div>"
      ],
      "text/plain": [
       "Default_Payment            0     1      prop\n",
       "Repayment_Status_June                       \n",
       "0                      21896  5025  0.229494\n",
       "2                       1365  1401  1.026374\n",
       "3                         66   118  1.787879\n",
       "4                         18    31  1.722222\n",
       "5                          6     7  1.166667\n",
       "6                         13    54  4.153846"
      ]
     },
     "execution_count": 24,
     "metadata": {},
     "output_type": "execute_result"
    }
   ],
   "source": [
    "createProportions(data,'Repayment_Status_June', 'Default_Payment')"
   ]
  },
  {
   "cell_type": "code",
   "execution_count": 25,
   "metadata": {},
   "outputs": [
    {
     "data": {
      "text/plain": [
       "' So We will create a clubbing fuctions and club the levels\\n0,1 will remain and 2 on owards will be clubbed as 2 itself for all \\nRapayment status months'"
      ]
     },
     "execution_count": 25,
     "metadata": {},
     "output_type": "execute_result"
    }
   ],
   "source": [
    "# group the academic levels as 1,2 and >= 3  OR 0(1) and 1(2,3,4) but 2nd technique will not be proper \n",
    "# due to distribution of target values in 2 and 3, let's see what happens afetr technique 1\n",
    "# \n",
    "''' So We will create a clubbing fuctions and club the levels\n",
    "0,1 will remain and 2 on owards will be clubbed as 2 itself for all \n",
    "Rapayment status months'''\n",
    "#"
   ]
  },
  {
   "cell_type": "code",
   "execution_count": 26,
   "metadata": {},
   "outputs": [],
   "source": [
    "def club(df, feature, a, b, newValue):\n",
    "    \n",
    "    for i in range(a, b):\n",
    "        df[feature][df[feature] == i] = newValue\n",
    "    \n",
    "    x = df[feature].value_counts()\n",
    "    \n",
    "    return x\n",
    "\n",
    "def labelCh(df, feature, a, b):\n",
    "    \n",
    "    for i in range(a, b):\n",
    "        df[feature][df[feature] == i] = i-1\n",
    "    \n",
    "    x = df[feature].value_counts()\n",
    "    \n",
    "    return x"
   ]
  },
  {
   "cell_type": "code",
   "execution_count": 27,
   "metadata": {},
   "outputs": [
    {
     "data": {
      "text/plain": [
       "0    23182\n",
       "1     6818\n",
       "Name: Repayment_Status_Jan, dtype: int64"
      ]
     },
     "execution_count": 27,
     "metadata": {},
     "output_type": "execute_result"
    }
   ],
   "source": [
    "club(data, 'Repayment_Status_Jan', 2, 7, 1)"
   ]
  },
  {
   "cell_type": "code",
   "execution_count": 28,
   "metadata": {},
   "outputs": [
    {
     "data": {
      "text/plain": [
       "0    25562\n",
       "1     4438\n",
       "Name: Repayment_Status_Feb, dtype: int64"
      ]
     },
     "execution_count": 28,
     "metadata": {},
     "output_type": "execute_result"
    }
   ],
   "source": [
    "club(data, 'Repayment_Status_Feb', 2, 7, 1)"
   ]
  },
  {
   "cell_type": "code",
   "execution_count": 29,
   "metadata": {},
   "outputs": [
    {
     "data": {
      "text/plain": [
       "0    25787\n",
       "1     4213\n",
       "Name: Repayment_Status_March, dtype: int64"
      ]
     },
     "execution_count": 29,
     "metadata": {},
     "output_type": "execute_result"
    }
   ],
   "source": [
    "club(data, 'Repayment_Status_March', 2, 7, 1)"
   ]
  },
  {
   "cell_type": "code",
   "execution_count": 30,
   "metadata": {},
   "outputs": [
    {
     "data": {
      "text/plain": [
       "0    26490\n",
       "1     3510\n",
       "Name: Repayment_Status_April, dtype: int64"
      ]
     },
     "execution_count": 30,
     "metadata": {},
     "output_type": "execute_result"
    }
   ],
   "source": [
    "club(data, 'Repayment_Status_April', 2, 7, 1)"
   ]
  },
  {
   "cell_type": "code",
   "execution_count": 31,
   "metadata": {},
   "outputs": [
    {
     "data": {
      "text/plain": [
       "0    27032\n",
       "1     2968\n",
       "Name: Repayment_Status_May, dtype: int64"
      ]
     },
     "execution_count": 31,
     "metadata": {},
     "output_type": "execute_result"
    }
   ],
   "source": [
    "club(data, 'Repayment_Status_May', 2, 7, 1)"
   ]
  },
  {
   "cell_type": "code",
   "execution_count": 32,
   "metadata": {},
   "outputs": [
    {
     "data": {
      "text/plain": [
       "0    26921\n",
       "1     3079\n",
       "Name: Repayment_Status_June, dtype: int64"
      ]
     },
     "execution_count": 32,
     "metadata": {},
     "output_type": "execute_result"
    }
   ],
   "source": [
    "club(data, 'Repayment_Status_June', 2, 7, 1)"
   ]
  },
  {
   "cell_type": "code",
   "execution_count": 33,
   "metadata": {},
   "outputs": [
    {
     "name": "stdout",
     "output_type": "stream",
     "text": [
      "2    14030\n",
      "1    10585\n",
      "3     4917\n",
      "5      280\n",
      "4      123\n",
      "6       65\n",
      "Name: Academic_Qualification, dtype: int64\n"
     ]
    }
   ],
   "source": [
    "print(data['Academic_Qualification'].value_counts())"
   ]
  },
  {
   "cell_type": "code",
   "execution_count": 34,
   "metadata": {},
   "outputs": [
    {
     "data": {
      "text/plain": [
       "2    14030\n",
       "1    10585\n",
       "3     5385\n",
       "Name: Academic_Qualification, dtype: int64"
      ]
     },
     "execution_count": 34,
     "metadata": {},
     "output_type": "execute_result"
    }
   ],
   "source": [
    "club(data, 'Academic_Qualification', 4, 7, 3)"
   ]
  },
  {
   "cell_type": "code",
   "execution_count": 35,
   "metadata": {},
   "outputs": [
    {
     "data": {
      "image/png": "[encoded data removed]",
      "text/plain": [
       "<Figure size 432x288 with 1 Axes>"
      ]
     },
     "metadata": {},
     "output_type": "display_data"
    }
   ],
   "source": [
    "# Academic qualification has been clubbed and reduced to 3 levels, 1& 2 from initial values\n",
    "#while 3 to 6 blevels have been clubbed to 3\n",
    "sns.countplot(x=data['Academic_Qualification'], hue = 'Default_Payment', data = data)\n",
    "plt.tight_layout()"
   ]
  },
  {
   "cell_type": "code",
   "execution_count": 36,
   "metadata": {},
   "outputs": [
    {
     "data": {
      "text/html": [
       "<div>\n",
       "<style scoped>\n",
       "    .dataframe tbody tr th:only-of-type {\n",
       "        vertical-align: middle;\n",
       "    }\n",
       "\n",
       "    .dataframe tbody tr th {\n",
       "        vertical-align: top;\n",
       "    }\n",
       "\n",
       "    .dataframe thead th {\n",
       "        text-align: right;\n",
       "    }\n",
       "</style>\n",
       "<table border=\"1\" class=\"dataframe\">\n",
       "  <thead>\n",
       "    <tr style=\"text-align: right;\">\n",
       "      <th></th>\n",
       "      <th>Academic_Qualification</th>\n",
       "      <th>Default_Payment</th>\n",
       "    </tr>\n",
       "  </thead>\n",
       "  <tbody>\n",
       "    <tr>\n",
       "      <th>0</th>\n",
       "      <td>1</td>\n",
       "      <td>0.192348</td>\n",
       "    </tr>\n",
       "    <tr>\n",
       "      <th>1</th>\n",
       "      <td>2</td>\n",
       "      <td>0.237349</td>\n",
       "    </tr>\n",
       "    <tr>\n",
       "      <th>2</th>\n",
       "      <td>3</td>\n",
       "      <td>0.235840</td>\n",
       "    </tr>\n",
       "  </tbody>\n",
       "</table>\n",
       "</div>"
      ],
      "text/plain": [
       "   Academic_Qualification  Default_Payment\n",
       "0                       1         0.192348\n",
       "1                       2         0.237349\n",
       "2                       3         0.235840"
      ]
     },
     "execution_count": 36,
     "metadata": {},
     "output_type": "execute_result"
    }
   ],
   "source": [
    "data[['Academic_Qualification', 'Default_Payment']].groupby(['Academic_Qualification'],\n",
    "    as_index=False).mean().sort_values(by='Academic_Qualification', ascending=True)"
   ]
  },
  {
   "cell_type": "code",
   "execution_count": 37,
   "metadata": {},
   "outputs": [
    {
     "data": {
      "text/html": [
       "<div>\n",
       "<style scoped>\n",
       "    .dataframe tbody tr th:only-of-type {\n",
       "        vertical-align: middle;\n",
       "    }\n",
       "\n",
       "    .dataframe tbody tr th {\n",
       "        vertical-align: top;\n",
       "    }\n",
       "\n",
       "    .dataframe thead th {\n",
       "        text-align: right;\n",
       "    }\n",
       "</style>\n",
       "<table border=\"1\" class=\"dataframe\">\n",
       "  <thead>\n",
       "    <tr style=\"text-align: right;\">\n",
       "      <th>Default_Payment</th>\n",
       "      <th>0</th>\n",
       "      <th>1</th>\n",
       "      <th>prop</th>\n",
       "    </tr>\n",
       "    <tr>\n",
       "      <th>Academic_Qualification</th>\n",
       "      <th></th>\n",
       "      <th></th>\n",
       "      <th></th>\n",
       "    </tr>\n",
       "  </thead>\n",
       "  <tbody>\n",
       "    <tr>\n",
       "      <th>1</th>\n",
       "      <td>8549</td>\n",
       "      <td>2036</td>\n",
       "      <td>0.238157</td>\n",
       "    </tr>\n",
       "    <tr>\n",
       "      <th>2</th>\n",
       "      <td>10700</td>\n",
       "      <td>3330</td>\n",
       "      <td>0.311215</td>\n",
       "    </tr>\n",
       "    <tr>\n",
       "      <th>3</th>\n",
       "      <td>4115</td>\n",
       "      <td>1270</td>\n",
       "      <td>0.308627</td>\n",
       "    </tr>\n",
       "  </tbody>\n",
       "</table>\n",
       "</div>"
      ],
      "text/plain": [
       "Default_Payment             0     1      prop\n",
       "Academic_Qualification                       \n",
       "1                        8549  2036  0.238157\n",
       "2                       10700  3330  0.311215\n",
       "3                        4115  1270  0.308627"
      ]
     },
     "execution_count": 37,
     "metadata": {},
     "output_type": "execute_result"
    }
   ],
   "source": [
    "createProportions(data,'Academic_Qualification', 'Default_Payment') #call the function from above to check proportion"
   ]
  },
  {
   "cell_type": "code",
   "execution_count": 38,
   "metadata": {},
   "outputs": [
    {
     "data": {
      "text/plain": [
       "1    19415\n",
       "0    10585\n",
       "Name: Academic_Qualification, dtype: int64"
      ]
     },
     "execution_count": 38,
     "metadata": {},
     "output_type": "execute_result"
    }
   ],
   "source": [
    "# Here percentage conversion is the same for 2 and 3 levels\n",
    "# group the academic levels as 0(1) and 1(2,3): makes sense post grad \n",
    "#approx.== professionals and elite classes\n",
    "data['Academic_Qualification'][data['Academic_Qualification']==1] = 0\n",
    "club(data, 'Academic_Qualification', 2, 4, 1)"
   ]
  },
  {
   "cell_type": "code",
   "execution_count": 39,
   "metadata": {},
   "outputs": [
    {
     "data": {
      "text/plain": [
       "1    18112\n",
       "0    11888\n",
       "Name: Gender, dtype: int64"
      ]
     },
     "execution_count": 39,
     "metadata": {},
     "output_type": "execute_result"
    }
   ],
   "source": [
    "'''Working on Gender Encoding'''\n",
    "# group the Gender levels as 0 and 1 instead of 1 and 2\n",
    "labelCh(data, 'Gender', 1, 3)"
   ]
  },
  {
   "cell_type": "code",
   "execution_count": 40,
   "metadata": {},
   "outputs": [
    {
     "data": {
      "image/png": "[encoded data removed]",
      "text/plain": [
       "<Figure size 432x288 with 1 Axes>"
      ]
     },
     "metadata": {},
     "output_type": "display_data"
    }
   ],
   "source": [
    "sns.countplot(x=data['Gender'], hue = 'Default_Payment', data = data)\n",
    "plt.tight_layout()"
   ]
  },
  {
   "cell_type": "code",
   "execution_count": 41,
   "metadata": {},
   "outputs": [
    {
     "data": {
      "text/html": [
       "<div>\n",
       "<style scoped>\n",
       "    .dataframe tbody tr th:only-of-type {\n",
       "        vertical-align: middle;\n",
       "    }\n",
       "\n",
       "    .dataframe tbody tr th {\n",
       "        vertical-align: top;\n",
       "    }\n",
       "\n",
       "    .dataframe thead th {\n",
       "        text-align: right;\n",
       "    }\n",
       "</style>\n",
       "<table border=\"1\" class=\"dataframe\">\n",
       "  <thead>\n",
       "    <tr style=\"text-align: right;\">\n",
       "      <th></th>\n",
       "      <th>Gender</th>\n",
       "      <th>Default_Payment</th>\n",
       "    </tr>\n",
       "  </thead>\n",
       "  <tbody>\n",
       "    <tr>\n",
       "      <th>0</th>\n",
       "      <td>0</td>\n",
       "      <td>0.241672</td>\n",
       "    </tr>\n",
       "    <tr>\n",
       "      <th>1</th>\n",
       "      <td>1</td>\n",
       "      <td>0.207763</td>\n",
       "    </tr>\n",
       "  </tbody>\n",
       "</table>\n",
       "</div>"
      ],
      "text/plain": [
       "   Gender  Default_Payment\n",
       "0       0         0.241672\n",
       "1       1         0.207763"
      ]
     },
     "execution_count": 41,
     "metadata": {},
     "output_type": "execute_result"
    }
   ],
   "source": [
    "data[['Gender', 'Default_Payment']].groupby(['Gender'],\n",
    "    as_index=False).mean().sort_values(by='Gender', ascending=True)"
   ]
  },
  {
   "cell_type": "code",
   "execution_count": 42,
   "metadata": {},
   "outputs": [
    {
     "name": "stdout",
     "output_type": "stream",
     "text": [
      "2    15964\n",
      "1    13659\n",
      "3      323\n",
      "0       54\n",
      "Name: Marital, dtype: int64\n"
     ]
    },
    {
     "data": {
      "text/plain": [
       "1    16287\n",
       "0    13713\n",
       "Name: Marital, dtype: int64"
      ]
     },
     "execution_count": 42,
     "metadata": {},
     "output_type": "execute_result"
    }
   ],
   "source": [
    "'''Working on Marital Status Categorical data'''\n",
    "# group the marital levels as (0,1) as 0 (due to proprotion of blue)\n",
    "# and (2,3) as 1; (due to proprotion of red)\n",
    "print(data['Marital'].value_counts())\n",
    "club(data, 'Marital', 1, 2, 0)\n",
    "club(data, 'Marital', 2, 4, 1)"
   ]
  },
  {
   "cell_type": "code",
   "execution_count": 43,
   "metadata": {},
   "outputs": [
    {
     "data": {
      "image/png": "[encoded data removed]",
      "text/plain": [
       "<Figure size 432x288 with 1 Axes>"
      ]
     },
     "metadata": {},
     "output_type": "display_data"
    }
   ],
   "source": [
    "sns.countplot(x=data['Marital'], hue = 'Default_Payment', data = data)\n",
    "plt.tight_layout()"
   ]
  },
  {
   "cell_type": "code",
   "execution_count": 44,
   "metadata": {},
   "outputs": [
    {
     "data": {
      "text/plain": [
       "'After all the changes on Categorical plots We will summarize all the plots'"
      ]
     },
     "execution_count": 44,
     "metadata": {},
     "output_type": "execute_result"
    }
   ],
   "source": [
    "data[['Marital', 'Default_Payment']].groupby(['Marital'],\n",
    "    as_index=False).mean().sort_values(by='Marital', ascending=True)\n",
    "'''After all the changes on Categorical plots We will summarize all the plots'''"
   ]
  },
  {
   "cell_type": "code",
   "execution_count": 45,
   "metadata": {},
   "outputs": [
    {
     "data": {
      "image/png": "[encoded data removed]",
      "text/plain": [
       "<Figure size 504x504 with 4 Axes>"
      ]
     },
     "metadata": {},
     "output_type": "display_data"
    }
   ],
   "source": [
    "## Rechecking the plots\n",
    "# Set up the matplotlib figure\n",
    "sns.set(style='darkgrid', palette='muted', font='sans-serif', font_scale=1, color_codes=True, rc=None)\n",
    "f, axes = plt.subplots(2, 2, figsize=(7, 7), sharex=False) #Controls sharing of properties among x (sharex) \n",
    "sns.despine(left=False)\n",
    "sns.countplot(x=data['Gender'], hue = 'Default_Payment', data = data, ax = axes[0][0])\n",
    "sns.countplot(x=data['Academic_Qualification'], hue = 'Default_Payment', data = data, ax = axes[1][0])\n",
    "sns.countplot(x=data['Marital'],  hue = 'Default_Payment', data = data, ax = axes[0][1])\n",
    "plt.setp(axes, yticks=[])\n",
    "plt.tight_layout()\n"
   ]
  },
  {
   "cell_type": "code",
   "execution_count": 46,
   "metadata": {},
   "outputs": [
    {
     "data": {
      "image/png": "[encoded data removed]",
      "text/plain": [
       "<Figure size 504x504 with 6 Axes>"
      ]
     },
     "metadata": {},
     "output_type": "display_data"
    }
   ],
   "source": [
    "# Set up the matplotlib figure\n",
    "sns.set(style='darkgrid', palette='husl', font='sans-serif', font_scale=1, color_codes=True, rc=None)\n",
    "f, axes = plt.subplots(3, 2, figsize=(7, 7), sharex=False) #Controls sharing of properties among x (sharex) \n",
    "sns.despine(left=False)\n",
    "sns.countplot(x=data['Repayment_Status_Jan'], hue = 'Default_Payment', data = data, ax = axes[0][0])\n",
    "sns.countplot(x=data['Repayment_Status_Feb'], hue = 'Default_Payment', data = data, ax = axes[0][1])\n",
    "sns.countplot(x=data['Repayment_Status_March'],  hue = 'Default_Payment', data = data, ax = axes[1][0])\n",
    "sns.countplot(x=data['Repayment_Status_April'], hue = 'Default_Payment', data = data, ax = axes[1][1])\n",
    "sns.countplot(x=data['Repayment_Status_May'], hue = 'Default_Payment', data = data, ax = axes[2][0])\n",
    "sns.countplot(x=data['Repayment_Status_June'],  hue = 'Default_Payment', data = data, ax = axes[2][1])\n",
    "plt.setp(axes, yticks=[])\n",
    "plt.tight_layout()"
   ]
  },
  {
   "cell_type": "code",
   "execution_count": 47,
   "metadata": {},
   "outputs": [],
   "source": [
    "'''Now we will drop the dependent variable from list of categorical features'''\n",
    "\n",
    "dataCAT = data[catCols].drop(['Default_Payment'], axis = 1)"
   ]
  },
  {
   "cell_type": "markdown",
   "metadata": {},
   "source": [
    "'''Let's Look at Numerical features now '''"
   ]
  },
  {
   "cell_type": "code",
   "execution_count": 48,
   "metadata": {},
   "outputs": [],
   "source": [
    "### EDA - numerical features ----------------------------------------------------------------------\n",
    "cols = data.columns.tolist()\n",
    "numCols = [cols[i] for i in range(len(cols)) if i == 0 or i == 4] #names(data3)[c(1,5)\n",
    "numCols2 = cols[11:-1] # Returns columns 12:23)] from data \n",
    "numCols.extend(numCols2)"
   ]
  },
  {
   "cell_type": "code",
   "execution_count": 49,
   "metadata": {},
   "outputs": [],
   "source": [
    "'''Python list extend() is an inbuilt function that adds the specified list elements \n",
    "(or any iterable) to the end of the current list. \n",
    "The extend() extends the list by adding all items of the list (passed as an argument) to an end'''\n",
    "\n",
    "dataNUM = data[numCols]"
   ]
  },
  {
   "cell_type": "code",
   "execution_count": 50,
   "metadata": {},
   "outputs": [
    {
     "data": {
      "image/png": "[encoded data removed]",
      "text/plain": [
       "<Figure size 504x504 with 9 Axes>"
      ]
     },
     "metadata": {},
     "output_type": "display_data"
    }
   ],
   "source": [
    "'''We will now see univariate Analysis on Numerical Data'''\n",
    "\n",
    "# Univariate analysis\n",
    "# Set up the matplotlib figure\n",
    "'''  Credit_amount till June_bill_amount '''\n",
    "sns.set(style=\"white\", palette=\"muted\", color_codes=True)\n",
    "f, axes = plt.subplots(3, 3, figsize=(7, 7), sharex=False)\n",
    "sns.despine(left=True)\n",
    "sns.distplot(dataNUM.iloc[:,0], ax = axes[0][0]) #dist plot all rown and a particular column here  0 which is credit Amount\n",
    "sns.distplot(dataNUM.iloc[:,1], ax = axes[0][1])\n",
    "sns.distplot(dataNUM.iloc[:,2], ax = axes[0][2])\n",
    "sns.distplot(dataNUM.iloc[:,3], ax = axes[1][0])\n",
    "sns.distplot(dataNUM.iloc[:,4], ax = axes[1][1])\n",
    "sns.distplot(dataNUM.iloc[:,5], ax = axes[1][2])\n",
    "sns.distplot(dataNUM.iloc[:,6], ax = axes[2][0])\n",
    "sns.distplot(dataNUM.iloc[:,7], ax = axes[2][1])\n",
    "plt.setp(axes, yticks=[])\n",
    "plt.tight_layout()"
   ]
  },
  {
   "cell_type": "code",
   "execution_count": 51,
   "metadata": {},
   "outputs": [
    {
     "data": {
      "image/png": "[encoded data removed]",
      "text/plain": [
       "<Figure size 504x504 with 6 Axes>"
      ]
     },
     "metadata": {},
     "output_type": "display_data"
    }
   ],
   "source": [
    "''' All previous_payments  '''\n",
    "sns.set(style=\"white\", palette=\"muted\", color_codes=True)\n",
    "f, axes = plt.subplots(2, 3, figsize=(7, 7), sharex=False)\n",
    "sns.despine(left=True)\n",
    "sns.distplot(dataNUM.iloc[:,8], ax = axes[0][0])\n",
    "sns.distplot(dataNUM.iloc[:,9], ax = axes[0][1])\n",
    "sns.distplot(dataNUM.iloc[:,10], ax = axes[0][2])\n",
    "sns.distplot(dataNUM.iloc[:,11], ax = axes[1][0])\n",
    "sns.distplot(dataNUM.iloc[:,12], ax = axes[1][1])\n",
    "sns.distplot(dataNUM.iloc[:,13], ax = axes[1][2])\n",
    "plt.setp(axes, yticks=[])\n",
    "plt.tight_layout()"
   ]
  },
  {
   "cell_type": "code",
   "execution_count": 52,
   "metadata": {},
   "outputs": [
    {
     "data": {
      "image/png": "[encoded data removed]",
      "text/plain": [
       "<Figure size 432x288 with 2 Axes>"
      ]
     },
     "metadata": {},
     "output_type": "display_data"
    }
   ],
   "source": [
    "''' Let Us check Auto Correlattion between Numerical Features'''\n",
    "# Credit, Jan-Bill, March-bill, April-bill, all Previous_payments\n",
    "#sns.heatmap(dataNUM, cmap=\"YlGnBu\")\n",
    "corr = dataNUM.corr()\n",
    "ax = sns.heatmap(corr, vmin=-1, vmax=1, center=0, cmap=sns.diverging_palette(20, 220, n=200), square=True)\n",
    "#ax.set_xticklabels(ax.get_xticklabels(),rotation=45,horizontalalignment='right')"
   ]
  },
  {
   "cell_type": "code",
   "execution_count": 53,
   "metadata": {},
   "outputs": [
    {
     "data": {
      "text/plain": [
       "0.8358633653688922"
      ]
     },
     "execution_count": 53,
     "metadata": {},
     "output_type": "execute_result"
    }
   ],
   "source": [
    "#correlation is high among Bill_Amount, not Previous_Payments\n",
    "dataNUM[['Jan_Bill_Amount','Feb_Bill_Amount']].corr().iloc[1,0]"
   ]
  },
  {
   "cell_type": "code",
   "execution_count": 54,
   "metadata": {},
   "outputs": [],
   "source": [
    "#drop all but June_Bills and June Previous_Payments\n",
    "dataNUM.columns\n",
    "# dropped columns are more\n",
    "dataNUM = dataNUM[['Credit_Amount', 'Age_Years','June_Bill_Amount', 'Previous_Payment_June']]\n"
   ]
  },
  {
   "cell_type": "code",
   "execution_count": 55,
   "metadata": {},
   "outputs": [
    {
     "data": {
      "image/png": "[encoded data removed]",
      "text/plain": [
       "<Figure size 504x504 with 4 Axes>"
      ]
     },
     "metadata": {},
     "output_type": "display_data"
    }
   ],
   "source": [
    "''''Now we will do outlier check'''\n",
    "\n",
    "sns.set(style=\"white\", palette=\"muted\", color_codes=True)\n",
    "f, axes = plt.subplots(2, 2, figsize=(7, 7), sharex=True)\n",
    "sns.despine(left=True)\n",
    "sns.boxplot(y = dataNUM.iloc[:,0], x = data['Default_Payment'], data = data, ax = axes[0][0])\n",
    "sns.boxplot(y = dataNUM.iloc[:,1], x = data['Default_Payment'], data = data, ax = axes[0][1])\n",
    "sns.boxplot(y = dataNUM.iloc[:,2], x = data['Default_Payment'], data = data, ax = axes[1][0])\n",
    "sns.boxplot(y = dataNUM.iloc[:,3], x = data['Default_Payment'], data = data, ax = axes[1][1])\n",
    "plt.setp(axes, yticks=[])\n",
    "plt.tight_layout()"
   ]
  },
  {
   "cell_type": "code",
   "execution_count": 56,
   "metadata": {},
   "outputs": [],
   "source": [
    "dataNUM_list = [dataNUM]\n",
    "\n",
    "for dataset in dataNUM_list:\n",
    "    dataset.loc[dataset.Credit_Amount < np.percentile(dataNUM['Credit_Amount'].values, 1), \n",
    "                'Credit_Amount' ] = np.percentile(dataNUM['Credit_Amount'].values, 1)\n",
    "    dataset.loc[dataset.Credit_Amount > np.percentile(dataNUM['Credit_Amount'].values, 99), \n",
    "                'Credit_Amount' ] = np.percentile(dataNUM['Credit_Amount'].values, 99)\n",
    "    \n",
    "    dataset.loc[dataset.Age_Years < np.percentile(dataNUM['Age_Years'].values, 1), \n",
    "                'Age_Years' ] = np.percentile(dataNUM['Age_Years'].values, 1)\n",
    "    dataset.loc[dataset.Age_Years > np.percentile(dataNUM['Age_Years'].values, 99),\n",
    "                'Age_Years' ] = np.percentile(dataNUM['Age_Years'].values, 99)\n",
    "    \n",
    "    dataset.loc[dataset.June_Bill_Amount < np.percentile(dataNUM['June_Bill_Amount'].values, 1), \n",
    "                'June_Bill_Amount' ] = np.percentile(dataNUM['June_Bill_Amount'].values, 1)\n",
    "    dataset.loc[dataset.June_Bill_Amount > np.percentile(dataNUM['June_Bill_Amount'].values, 99), \n",
    "                'June_Bill_Amount' ] = np.percentile(dataNUM['June_Bill_Amount'].values, 99)\n",
    "    \n",
    "    dataset.loc[dataset.Previous_Payment_June < np.percentile(dataNUM['Previous_Payment_June'].values, 1),\n",
    "                'Previous_Payment_June' ] = np.percentile(dataNUM['Previous_Payment_June'].values, 1)\n",
    "    dataset.loc[dataset.Previous_Payment_June > np.percentile(dataNUM['Previous_Payment_June'].values, 99),\n",
    "                'Previous_Payment_June' ] = np.percentile(dataNUM['Previous_Payment_June'].values, 99)"
   ]
  },
  {
   "cell_type": "code",
   "execution_count": 57,
   "metadata": {},
   "outputs": [],
   "source": [
    "def clubLabelEncoder(df, feature, k):\n",
    "    \n",
    "    df[feature +'_band'] = pd.qcut(df[feature], k)\n",
    "    x = df[feature + '_band'].value_counts().index.tolist()\n",
    "    \n",
    "    intervals = []\n",
    "    for i in range(len(x)):\n",
    "        leftInt = x[i].left\n",
    "        rtInt = x[i].right\n",
    "        intervals.append(leftInt)\n",
    "        intervals.append(rtInt)\n",
    "    \n",
    "    intervals_ = sorted(list(set(intervals)))\n",
    "    \n",
    "    for i in range(len(intervals_)-1):\n",
    "        \n",
    "        df.loc[(df[feature] > intervals_[i]) & (df[feature] <= intervals_[i+1]), feature] = i\n",
    "    \n",
    "    df = df.iloc[:,:-1]\n",
    "    \n",
    "    return df[feature].value_counts()\n"
   ]
  },
  {
   "cell_type": "code",
   "execution_count": 58,
   "metadata": {},
   "outputs": [
    {
     "data": {
      "text/plain": [
       "0.0    8013\n",
       "1.0    7683\n",
       "3.0    7450\n",
       "2.0    6854\n",
       "Name: Age_Years, dtype: int64"
      ]
     },
     "execution_count": 58,
     "metadata": {},
     "output_type": "execute_result"
    }
   ],
   "source": [
    "clubLabelEncoder(dataNUM, 'Age_Years', 4)\n",
    "dataNUM['Age_Years'].value_counts()"
   ]
  },
  {
   "cell_type": "code",
   "execution_count": 59,
   "metadata": {},
   "outputs": [
    {
     "data": {
      "text/plain": [
       "1.0    8863\n",
       "0.0    7676\n",
       "3.0    7182\n",
       "2.0    6279\n",
       "Name: Credit_Amount, dtype: int64"
      ]
     },
     "execution_count": 59,
     "metadata": {},
     "output_type": "execute_result"
    }
   ],
   "source": [
    "clubLabelEncoder(dataNUM, 'Credit_Amount', 4)\n",
    "dataNUM['Credit_Amount'].value_counts()"
   ]
  },
  {
   "cell_type": "code",
   "execution_count": 60,
   "metadata": {},
   "outputs": [
    {
     "data": {
      "text/plain": [
       "0.0    7502\n",
       "3.0    7500\n",
       "2.0    7500\n",
       "1.0    7498\n",
       "Name: June_Bill_Amount, dtype: int64"
      ]
     },
     "execution_count": 60,
     "metadata": {},
     "output_type": "execute_result"
    }
   ],
   "source": [
    "clubLabelEncoder(dataNUM, 'June_Bill_Amount', 4)\n",
    "dataNUM['June_Bill_Amount'].value_counts()"
   ]
  },
  {
   "cell_type": "code",
   "execution_count": 61,
   "metadata": {},
   "outputs": [
    {
     "data": {
      "text/plain": [
       "1.0    7742\n",
       "0.0    7500\n",
       "3.0    7483\n",
       "2.0    7275\n",
       "Name: Previous_Payment_June, dtype: int64"
      ]
     },
     "execution_count": 61,
     "metadata": {},
     "output_type": "execute_result"
    }
   ],
   "source": [
    "clubLabelEncoder(dataNUM, 'Previous_Payment_June', 4)\n",
    "dataNUM['Previous_Payment_June'].value_counts()\n"
   ]
  },
  {
   "cell_type": "code",
   "execution_count": 62,
   "metadata": {},
   "outputs": [],
   "source": [
    "dataNUM = dataNUM.iloc[:,:-4] #removing four band columns from the last"
   ]
  },
  {
   "cell_type": "code",
   "execution_count": 64,
   "metadata": {},
   "outputs": [
    {
     "data": {
      "text/plain": [
       "1    18112\n",
       "0    11888\n",
       "Name: Gender, dtype: int64"
      ]
     },
     "execution_count": 64,
     "metadata": {},
     "output_type": "execute_result"
    }
   ],
   "source": [
    "dataCAT.iloc[:,0].value_counts() # already brinary,  no need for dummy encoding"
   ]
  },
  {
   "cell_type": "code",
   "execution_count": 65,
   "metadata": {},
   "outputs": [],
   "source": [
    "df = pd.concat([dataCAT, dataNUM], axis = 1) # only independent deatures\n",
    "df['Default_Payment'] = data['Default_Payment'] # add the target column\n"
   ]
  },
  {
   "cell_type": "code",
   "execution_count": 66,
   "metadata": {},
   "outputs": [],
   "source": [
    "#------------------------- rectified data for SVM, scaled numercial features-------------\n",
    "dataNUM_ = data[['Credit_Amount', 'Age_Years', 'June_Bill_Amount', 'Previous_Payment_June']]\n",
    "df_ = pd.concat([dataCAT, dataNUM_], axis = 1)\n",
    "df_['Default_Payment'] = data['Default_Payment'] "
   ]
  },
  {
   "cell_type": "code",
   "execution_count": 67,
   "metadata": {},
   "outputs": [
    {
     "name": "stdout",
     "output_type": "stream",
     "text": [
      "WITH IMBALANCE TREATMENT:\n",
      "Before SMOTE: (30000, 13) (30000,)\n",
      "After SMOTE, Xs: (46728, 13)\n",
      "After SMOTE, y: (46728,)\n",
      "After SMOTE, counts of '1': 23364\n",
      "After SMOTE, counts of '0': 23364\n",
      "Before SMOTE, counts of '1': 6636\n",
      "Before SMOTE, counts of '0': 23364\n",
      "\n",
      "\n",
      "********************************************************************************\n"
     ]
    }
   ],
   "source": [
    "## ---------------------------------------Modelling with SMOTE--------------------------------------------------------------------------------\n",
    "\n",
    "'''SMOTE will take care of the oversampling stuff''' \n",
    "\n",
    "'''df_ has the numerical variables as they were originally along with the other discrete features #(clubbed them)'''\n",
    "'''df has the categorized numerical features along with the other discrete features #(clubbed them)'''\n",
    "'''df2 has the numerical variables as they were along with the other discrete features #(unclubbed)'''\n",
    "\n",
    "\n",
    "from sklearn.model_selection import train_test_split \n",
    "from sklearn.metrics import confusion_matrix, classification_report\n",
    "from imblearn.over_sampling import SMOTE \n",
    "from sklearn.svm import SVC #Support vector classifier\n",
    "from sklearn.metrics import roc_auc_score, roc_curve\n",
    "import time\n",
    "\n",
    "\n",
    "X = df_.iloc[:,0:-1]\n",
    "y = df_['Default_Payment']\n",
    "\n",
    "sm = SMOTE(random_state = 2) \n",
    "X_sm, y_sm = sm.fit_sample(X, y.ravel()) \n",
    "\n",
    "print('With imbalance treatment:'.upper())\n",
    "print('Before SMOTE:',X.shape, y.shape)\n",
    "print('After SMOTE, Xs: {}'.format(X_sm.shape)) \n",
    "print('After SMOTE, y: {}'.format(y_sm.shape)) \n",
    "print(\"After SMOTE, counts of '1': {}\".format(sum(y_sm == 1))) \n",
    "print(\"After SMOTE, counts of '0': {}\".format(sum(y_sm == 0))) \n",
    "print(\"Before SMOTE, counts of '1': {}\".format(sum(y == 1))) \n",
    "print(\"Before SMOTE, counts of '0': {}\".format(sum(y == 0))) \n",
    "print('\\n')\n",
    "print('*'*80)\n",
    "\n",
    "\n",
    "#X_smU = [X_sm[i][:9] for i in range(len(X_sm))] #cat\n",
    "#X_smS = [X_sm[i][9:] for i in range(len(X_sm))] #num"
   ]
  },
  {
   "cell_type": "code",
   "execution_count": 68,
   "metadata": {},
   "outputs": [
    {
     "name": "stdout",
     "output_type": "stream",
     "text": [
      "<class 'pandas.core.frame.DataFrame'>\n",
      "RangeIndex: 46728 entries, 0 to 46727\n",
      "Data columns (total 13 columns):\n",
      "Gender                    46728 non-null int64\n",
      "Academic_Qualification    46728 non-null int64\n",
      "Marital                   46728 non-null int64\n",
      "Repayment_Status_Jan      46728 non-null int64\n",
      "Repayment_Status_Feb      46728 non-null int64\n",
      "Repayment_Status_March    46728 non-null int64\n",
      "Repayment_Status_April    46728 non-null int64\n",
      "Repayment_Status_May      46728 non-null int64\n",
      "Repayment_Status_June     46728 non-null int64\n",
      "Credit_Amount             46728 non-null float64\n",
      "Age_Years                 46728 non-null int64\n",
      "June_Bill_Amount          46728 non-null float64\n",
      "Previous_Payment_June     46728 non-null float64\n",
      "dtypes: float64(3), int64(10)\n",
      "memory usage: 4.6 MB\n"
     ]
    }
   ],
   "source": [
    "X_sm.info()"
   ]
  },
  {
   "cell_type": "code",
   "execution_count": 69,
   "metadata": {},
   "outputs": [],
   "source": [
    "X_smU= X_sm[['Gender','Academic_Qualification','Marital','Repayment_Status_Jan','Repayment_Status_Feb',\n",
    "             'Repayment_Status_March','Repayment_Status_April','Repayment_Status_May','Repayment_Status_June']]  #categorical columns\n",
    "X_smS= X_sm[['Credit_Amount','Age_Years','June_Bill_Amount','Previous_Payment_June']] #numerical columns"
   ]
  },
  {
   "cell_type": "code",
   "execution_count": 70,
   "metadata": {},
   "outputs": [],
   "source": [
    "# Scaling\n",
    "from sklearn.preprocessing import MinMaxScaler\n",
    "scaler = MinMaxScaler(feature_range  =(-1,1)).fit(X_smS)\n",
    "Xs_smS = scaler.transform(X_smS)"
   ]
  },
  {
   "cell_type": "code",
   "execution_count": 71,
   "metadata": {},
   "outputs": [
    {
     "data": {
      "text/plain": [
       "array([1, 1, 0, ..., 1, 1, 1], dtype=int64)"
      ]
     },
     "execution_count": 71,
     "metadata": {},
     "output_type": "execute_result"
    }
   ],
   "source": [
    "#X_sm = Xs_smS.tolist()\n",
    "\n",
    "df1 = pd.DataFrame(columns = dataCAT.columns.tolist() , data = X_smU)\n",
    "df2 = pd.DataFrame(columns = dataNUM.columns.tolist() , data = Xs_smS)\n",
    "\n",
    "DF = pd.concat([df1, df2], axis = 1)\n",
    "X_sm = DF.values\n",
    "\n",
    "X_scaled = DF.iloc[:,0:-1] # scaled version\n",
    "y_sm"
   ]
  },
  {
   "cell_type": "code",
   "execution_count": 72,
   "metadata": {},
   "outputs": [
    {
     "name": "stdout",
     "output_type": "stream",
     "text": [
      "WITH SMOTE:\n",
      "train accuracy:  0.6836039010669847\n",
      "test accuracy:  0.6795063841928811\n",
      "F1 score:\n",
      "               precision    recall  f1-score   support\n",
      "\n",
      "           0       0.68      0.66      0.67      6952\n",
      "           1       0.68      0.70      0.69      7067\n",
      "\n",
      "    accuracy                           0.68     14019\n",
      "   macro avg       0.68      0.68      0.68     14019\n",
      "weighted avg       0.68      0.68      0.68     14019\n",
      "\n",
      "********************************************************************************\n"
     ]
    }
   ],
   "source": [
    "#split into 70:30 ratio \n",
    "X_train_sm, X_val_sm, y_train_sm, y_val_sm = train_test_split(X_sm, y_sm, test_size = 0.3, random_state = 0)\n",
    "# for scaled data use X_scaled instead of X_sm \n",
    "\n",
    "\n",
    "t1 = time.time()\n",
    "# Naked Modelling\n",
    "\n",
    "svm = SVC() #SVC(kernel='linear') \n",
    "\n",
    "clf = svm.fit(X_train_sm, y_train_sm.ravel()) \n",
    "score1 = svm.score(X_train_sm, y_train_sm)\n",
    "score2 = svm.score(X_val_sm, y_val_sm)\n",
    "pred = svm.predict(X_val_sm) \n",
    "  \n",
    "# print classification report \n",
    "print('With SMOTE:'.upper())\n",
    "print('train accuracy: ', score1)\n",
    "print('test accuracy: ', score2)\n",
    "print('F1 score:\\n', classification_report(y_val_sm, pred)) \n",
    "print('*'*80)\n",
    "#print('\\n')"
   ]
  },
  {
   "cell_type": "code",
   "execution_count": 73,
   "metadata": {},
   "outputs": [
    {
     "ename": "TypeError",
     "evalue": "ufunc 'add' did not contain a loop with signature matching types dtype('<U32') dtype('<U32') dtype('<U32')",
     "output_type": "error",
     "traceback": [
      "\u001b[1;31m---------------------------------------------------------------------------\u001b[0m",
      "\u001b[1;31mTypeError\u001b[0m                                 Traceback (most recent call last)",
      "\u001b[1;32m<ipython-input-73-d0a340db9c05>\u001b[0m in \u001b[0;36m<module>\u001b[1;34m\u001b[0m\n\u001b[0;32m     15\u001b[0m \u001b[0mt2\u001b[0m \u001b[1;33m=\u001b[0m \u001b[0mtime\u001b[0m\u001b[1;33m.\u001b[0m\u001b[0mtime\u001b[0m\u001b[1;33m(\u001b[0m\u001b[1;33m)\u001b[0m\u001b[1;33m\u001b[0m\u001b[1;33m\u001b[0m\u001b[0m\n\u001b[0;32m     16\u001b[0m \u001b[0mt\u001b[0m \u001b[1;33m=\u001b[0m \u001b[0mnp\u001b[0m\u001b[1;33m.\u001b[0m\u001b[0mround\u001b[0m\u001b[1;33m(\u001b[0m\u001b[1;33m(\u001b[0m\u001b[0mt2\u001b[0m\u001b[1;33m-\u001b[0m\u001b[0mt1\u001b[0m\u001b[1;33m)\u001b[0m\u001b[1;33m/\u001b[0m\u001b[1;36m60\u001b[0m\u001b[1;33m)\u001b[0m\u001b[1;33m\u001b[0m\u001b[1;33m\u001b[0m\u001b[0m\n\u001b[1;32m---> 17\u001b[1;33m \u001b[0mprint\u001b[0m\u001b[1;33m(\u001b[0m\u001b[1;34m'Time for naked model: '\u001b[0m\u001b[1;33m,\u001b[0m \u001b[0mt\u001b[0m \u001b[1;33m+\u001b[0m \u001b[1;34m' mins'\u001b[0m\u001b[1;33m)\u001b[0m\u001b[1;33m\u001b[0m\u001b[1;33m\u001b[0m\u001b[0m\n\u001b[0m\u001b[0;32m     18\u001b[0m \u001b[0mprint\u001b[0m\u001b[1;33m(\u001b[0m\u001b[1;34m'*'\u001b[0m\u001b[1;33m*\u001b[0m\u001b[1;36m80\u001b[0m\u001b[1;33m)\u001b[0m\u001b[1;33m\u001b[0m\u001b[1;33m\u001b[0m\u001b[0m\n",
      "\u001b[1;31mTypeError\u001b[0m: ufunc 'add' did not contain a loop with signature matching types dtype('<U32') dtype('<U32') dtype('<U32')"
     ]
    },
    {
     "data": {
      "image/png": "[encoded data removed]",
      "text/plain": [
       "<Figure size 432x288 with 1 Axes>"
      ]
     },
     "metadata": {},
     "output_type": "display_data"
    }
   ],
   "source": [
    "# ROC Curve\n",
    "svm_p = SVC(probability = True) # for probability\n",
    "clf_p = svm_p.fit(X_train_sm, y_train_sm.ravel()) # for probability\n",
    "\n",
    "pred_proba = svm_p.predict_proba(X_val_sm)[::,1]\n",
    "fpr, tpr, _ = roc_curve(y_val_sm,  pred_proba)\n",
    "auc = roc_auc_score(y_val_sm, pred_proba)\n",
    "plt.plot(fpr,tpr,label=\"Smote, auc=\"+str(np.round(auc,3)))\n",
    "plt.legend(loc=4)\n",
    "plt.ylabel('Sensitivity')\n",
    "plt.xlabel('1 - Specificity')\n",
    "plt.title('ROC')\n",
    "plt.tight_layout()\n"
   ]
  },
  {
   "cell_type": "code",
   "execution_count": 74,
   "metadata": {},
   "outputs": [
    {
     "name": "stdout",
     "output_type": "stream",
     "text": [
      "WITH SMOTE:\n",
      "train accuracy:  0.6874560518511724\n",
      "test accuracy:  0.6822883229902276\n",
      "F1 score:\n",
      "               precision    recall  f1-score   support\n",
      "\n",
      "           0       0.68      0.67      0.68      6952\n",
      "           1       0.68      0.69      0.69      7067\n",
      "\n",
      "    accuracy                           0.68     14019\n",
      "   macro avg       0.68      0.68      0.68     14019\n",
      "weighted avg       0.68      0.68      0.68     14019\n",
      "\n",
      "********************************************************************************\n"
     ]
    }
   ],
   "source": [
    "# --------------------------------homework------------------------------------------------------\n",
    "\n",
    "# repeat the modelling for df2 with scaling\n",
    "\n",
    "# columns should be 14\n",
    "\n",
    "#split into 70:30 ratio \n",
    "X_train_sm, X_val_sm, y_train_sm, y_val_sm = train_test_split(X_scaled, y_sm, test_size = 0.3, random_state = 0)\n",
    "\n",
    "t1 = time.time()\n",
    "# Naked Modelling\n",
    "\n",
    "svm = SVC() #SVC(kernel='linear') \n",
    "\n",
    "clf = svm.fit(X_train_sm, y_train_sm.ravel()) \n",
    "score1 = svm.score(X_train_sm, y_train_sm)\n",
    "score2 = svm.score(X_val_sm, y_val_sm)\n",
    "pred = svm.predict(X_val_sm) \n",
    "  \n",
    "# print classification report \n",
    "print('With SMOTE:'.upper())\n",
    "print('train accuracy: ', score1)\n",
    "print('test accuracy: ', score2)\n",
    "print('F1 score:\\n', classification_report(y_val_sm, pred)) \n",
    "print('*'*80)\n",
    "#print('\\n')\n"
   ]
  },
  {
   "cell_type": "code",
   "execution_count": 75,
   "metadata": {},
   "outputs": [
    {
     "name": "stdout",
     "output_type": "stream",
     "text": [
      "WITH SMOTE:\n",
      "train accuracy:  0.6876700602280718\n",
      "test accuracy:  0.6806476924174335\n",
      "F1 score:\n",
      "               precision    recall  f1-score   support\n",
      "\n",
      "           0       0.68      0.68      0.68      6952\n",
      "           1       0.69      0.68      0.68      7067\n",
      "\n",
      "    accuracy                           0.68     14019\n",
      "   macro avg       0.68      0.68      0.68     14019\n",
      "weighted avg       0.68      0.68      0.68     14019\n",
      "\n",
      "********************************************************************************\n"
     ]
    }
   ],
   "source": [
    "#-------------------------------------------------------------------------------------------\n",
    "# repeat the modelling for df2 with scaling for all numerical --- create df2_ without clubbing\n",
    "dataCAT_original = data_original[catCols]\n",
    "data_allNumeric = pd.concat([dataCAT_original, dataNUM_], axis = 1)\n",
    "data_allNumeric['Default_Payment'] = data['Default_Payment']\n",
    "\n",
    "X = data_allNumeric.iloc[:,0:-1]\n",
    "y = data_allNumeric['Default_Payment']\n",
    "\n",
    "X = df_.iloc[:,0:-1]   # why has this been used heer  ?????????????????????????\n",
    "y = df_['Default_Payment']        # why has this been used heer  ?????????????????????????\n",
    "\n",
    "sm = SMOTE(random_state = 2) \n",
    "X_sm, y_sm = sm.fit_sample(X, y.ravel()) \n",
    "\n",
    "from sklearn.preprocessing import MinMaxScaler\n",
    "scaler = MinMaxScaler(feature_range  =(-1,1)).fit(X_sm)\n",
    "Xscaled = scaler.transform(X_sm)\n",
    "\n",
    "\n",
    "#split into 70:30 ratio \n",
    "X_train_sm, X_val_sm, y_train_sm, y_val_sm = train_test_split(Xscaled, y_sm, test_size = 0.3, random_state = 0)\n",
    "\n",
    "t1 = time.time()\n",
    "# Naked Modelling\n",
    "\n",
    "svm = SVC() #SVC(kernel='linear') \n",
    "\n",
    "clf = svm.fit(X_train_sm, y_train_sm.ravel()) \n",
    "score1 = svm.score(X_train_sm, y_train_sm)\n",
    "score2 = svm.score(X_val_sm, y_val_sm)\n",
    "pred = svm.predict(X_val_sm) \n",
    "  \n",
    "# print classification report \n",
    "print('With SMOTE:'.upper())\n",
    "print('train accuracy: ', score1)\n",
    "print('test accuracy: ', score2)\n",
    "print('F1 score:\\n', classification_report(y_val_sm, pred)) \n",
    "print('*'*80)\n",
    "#print('\\n')"
   ]
  },
  {
   "cell_type": "code",
   "execution_count": 80,
   "metadata": {},
   "outputs": [
    {
     "name": "stdout",
     "output_type": "stream",
     "text": [
      "GRID SEARCH WITH SMOTE:\n",
      "Using best parameters: {'C': 10, 'gamma': 1, 'kernel': 'rbf'}\n",
      "Train accuracy: 0.715\n",
      "Test accuracy: 0.694\n",
      "F1 score:\n",
      "               precision    recall  f1-score   support\n",
      "\n",
      "           0       0.68      0.71      0.70      6952\n",
      "           1       0.70      0.68      0.69      7067\n",
      "\n",
      "    accuracy                           0.69     14019\n",
      "   macro avg       0.69      0.69      0.69     14019\n",
      "weighted avg       0.69      0.69      0.69     14019\n",
      "\n",
      "********************************************************************************\n"
     ]
    },
    {
     "data": {
      "image/png": "[encoded data removed]",
      "text/plain": [
       "<Figure size 432x288 with 1 Axes>"
      ]
     },
     "metadata": {},
     "output_type": "display_data"
    }
   ],
   "source": [
    "#### GRID SEARCH WITH SMOTE for SVM---------------------------------------------------\n",
    "t3 = time.time()\n",
    "\n",
    "from sklearn.model_selection import GridSearchCV\n",
    "import matplotlib.pyplot as plt\n",
    "from sklearn import metrics\n",
    "\n",
    "parameters = {'C': [0.001, 0.01, 0.1, 1, 10], 'gamma' : [0.001, 0.01, 0.1, 1], 'kernel': ['rbf', 'linear']}\n",
    "svm_gs = GridSearchCV(svm,parameters)\n",
    "svm_gs.fit(X_train_sm,y_train_sm)\n",
    "preds = svm_gs.predict(X_val_sm)\n",
    "score3 = svm_gs.score(X_train_sm, y_train_sm)\n",
    "score4 = svm_gs.score(X_val_sm, y_val_sm)\n",
    "predG = svm_gs.predict(X_val_sm)\n",
    "\n",
    "print('GRID SEARCH WITH SMOTE:')\n",
    "print('Using best parameters:',svm_gs.best_params_)\n",
    "print('Train accuracy:', np.round(score3,3))\n",
    "print('Test accuracy:', np.round(score4,3))\n",
    "print('F1 score:\\n', classification_report(y_val_sm, predG)) \n",
    "\n",
    "# ROC Curve\n",
    "svm_p = SVC(probability = True) # for probability\n",
    "clf_p = svm_p.fit(X_train_sm, y_train_sm.ravel()) \n",
    "pred_proba_gs = svm_p.predict_proba(X_val_sm)[::,1]\n",
    "fpr_gs, tpr_gs, _ = roc_curve(y_val_sm,  pred_proba_gs)\n",
    "auc_gs = roc_auc_score(y_val_sm, pred_proba_gs)\n",
    "plt.plot(fpr_gs,tpr_gs,label=\"Gs-Smote, auc=\"+str(np.round(auc_gs,3)))\n",
    "plt.legend(loc=4)\n",
    "plt.tight_layout()\n",
    "print('*'*80)"
   ]
  },
  {
   "cell_type": "code",
   "execution_count": 81,
   "metadata": {},
   "outputs": [
    {
     "name": "stdout",
     "output_type": "stream",
     "text": [
      "GRID SEARCH WITH SMOTE & CROSS VALIDATION -- DT:\n",
      "Using best parameters: {'C': 10, 'gamma': 1, 'kernel': 'rbf'}\n",
      "Train accuracy: 0.715\n",
      "Test accuracy: 0.694\n",
      "F1 score:\n",
      "               precision    recall  f1-score   support\n",
      "\n",
      "           0       0.68      0.71      0.70      6952\n",
      "           1       0.70      0.68      0.69      7067\n",
      "\n",
      "    accuracy                           0.69     14019\n",
      "   macro avg       0.69      0.69      0.69     14019\n",
      "weighted avg       0.69      0.69      0.69     14019\n",
      "\n"
     ]
    },
    {
     "data": {
      "image/png": "[encoded data removed]",
      "text/plain": [
       "<Figure size 432x288 with 1 Axes>"
      ]
     },
     "metadata": {},
     "output_type": "display_data"
    }
   ],
   "source": [
    "#### GRID SEARCH WITH SMOTE with CROSS VALIDATION---------------------------------\n",
    "t5 = time.time()\n",
    "\n",
    "def SVM_gridSearch(X,y,nfolds):\n",
    "    #create a dictionary of all values we want to test\n",
    "    parameters = {'C': [0.001, 0.01, 0.1, 1, 10], 'gamma' : [0.001, 0.01, 0.1, 1], 'kernel': ['rbf', 'linear']}\n",
    "    # decision tree model\n",
    "    svm = SVC()\n",
    "    #use gridsearch to val all values\n",
    "    svm_gscv = GridSearchCV(svm, parameters, cv=nfolds)\n",
    "    #fit model to data\n",
    "    svm_gscv.fit(X, y)\n",
    "    #find score\n",
    "    accuracy = svm_gscv.score(X, y)\n",
    "    \n",
    "    return svm_gscv.best_params_, accuracy, svm_gscv\n",
    "\n",
    "print('GRID SEARCH WITH SMOTE & CROSS VALIDATION -- DT:')\n",
    "best_param, score5, svm_gscv = SVM_gridSearch(X_train_sm,y_train_sm, 4)\n",
    "score6 = svm_gscv.score(X_val_sm, y_val_sm)\n",
    "predGC = svm_gscv.predict(X_val_sm)\n",
    "print('Using best parameters:',best_param)\n",
    "print('Train accuracy:', np.round(score5,3))\n",
    "print('Test accuracy:', np.round(score6,3))\n",
    "print('F1 score:\\n', classification_report(y_val_sm, predGC))\n",
    "\n",
    "## ROC curve\n",
    "svm_pp = SVC(probability = True) # for probability\n",
    "clf_p = svm_pp.fit(X_train_sm, y_train_sm.ravel()) \n",
    "pred_proba_gsp = svm_pp.predict_proba(X_val_sm)[::,1]\n",
    "\n",
    "fpr_gscv, tpr_gscv, _ = roc_curve(y_val_sm,  pred_proba_gsp)\n",
    "auc_gscv = metrics.roc_auc_score(y_val_sm, pred_proba_gsp)\n",
    "plt.plot(fpr_gscv,tpr_gscv,label=\"Gs-Smote-CV, auc=\"+str(np.round(auc_gscv,3)))\n",
    "plt.legend(loc=4)\n",
    "plt.ylabel('Sensitivity')\n",
    "plt.xlabel('1 - Specificity')\n",
    "plt.title('ROC')\n",
    "plt.tight_layout()\n"
   ]
  },
  {
   "cell_type": "code",
   "execution_count": null,
   "metadata": {},
   "outputs": [],
   "source": []
  }
 ],
 "metadata": {
  "kernelspec": {
   "display_name": "Python 3",
   "language": "python",
   "name": "python3"
  },
  "language_info": {
   "codemirror_mode": {
    "name": "ipython",
    "version": 3
   },
   "file_extension": ".py",
   "mimetype": "text/x-python",
   "name": "python",
   "nbconvert_exporter": "python",
   "pygments_lexer": "ipython3",
   "version": "3.7.3"
  }
 },
 "nbformat": 4,
 "nbformat_minor": 2
}
